{
 "cells": [
  {
   "cell_type": "code",
   "execution_count": 1,
   "metadata": {},
   "outputs": [
    {
     "name": "stderr",
     "output_type": "stream",
     "text": [
      "/usr/local/anaconda3/envs/hackaubi/lib/python2.7/site-packages/h5py/__init__.py:36: FutureWarning: Conversion of the second argument of issubdtype from `float` to `np.floating` is deprecated. In future, it will be treated as `np.float64 == np.dtype(float).type`.\n",
      "  from ._conv import register_converters as _register_converters\n",
      "Using TensorFlow backend.\n"
     ]
    }
   ],
   "source": [
    "%matplotlib inline\n",
    "import numpy as np\n",
    "import pandas as pd\n",
    "import seaborn as sns\n",
    "import matplotlib.pyplot as plt\n",
    "\n",
    "import keras\n",
    "from keras import optimizers\n",
    "from keras import backend as K\n",
    "from keras import regularizers\n",
    "from keras.models import Sequential\n",
    "from keras.layers import Dense, Activation, Dropout, Flatten\n",
    "from keras.layers import Embedding, Conv1D, MaxPooling1D, GlobalMaxPooling1D, LSTM \n",
    "from keras.utils import plot_model, multi_gpu_model\n",
    "from keras.preprocessing import sequence\n",
    "from keras.preprocessing.text import Tokenizer\n",
    "from keras.callbacks import EarlyStopping, ModelCheckpoint\n",
    "\n",
    "from tqdm import tqdm\n",
    "from nltk.corpus import stopwords\n",
    "from nltk.tokenize import RegexpTokenizer \n",
    "import os, re, csv, math, codecs"
   ]
  },
  {
   "cell_type": "code",
   "execution_count": 2,
   "metadata": {},
   "outputs": [],
   "source": [
    "sns.set_style(\"whitegrid\")\n",
    "np.random.seed(0)\n",
    "\n",
    "DATA_PATH = ''\n",
    "EMBEDDING_PATH = './wiki.en.vec'\n",
    "\n",
    "MAX_NB_WORDS = 100000\n",
    "tokenizer = RegexpTokenizer(r'\\w+')\n",
    "stop_words = set(stopwords.words('english'))\n",
    "stop_words.update(['.', ',', '\"', \"'\", ':', ';', '(', ')', '[', ']', '{', '}'])\n"
   ]
  },
  {
   "cell_type": "code",
   "execution_count": 3,
   "metadata": {},
   "outputs": [
    {
     "name": "stderr",
     "output_type": "stream",
     "text": [
      "414it [00:00, 4137.80it/s]"
     ]
    },
    {
     "name": "stdout",
     "output_type": "stream",
     "text": [
      "loading word embeddings...\n"
     ]
    },
    {
     "name": "stderr",
     "output_type": "stream",
     "text": [
      "2519428it [05:26, 7727.81it/s]"
     ]
    },
    {
     "name": "stdout",
     "output_type": "stream",
     "text": [
      "found 2519396 word vectors\n"
     ]
    },
    {
     "name": "stderr",
     "output_type": "stream",
     "text": [
      "\n"
     ]
    }
   ],
   "source": [
    "print('loading word embeddings...')\n",
    "embeddings_index = {}\n",
    "f = codecs.open(EMBEDDING_PATH, encoding='utf-8')\n",
    "for line in tqdm(f):\n",
    "    values = line.rstrip().rsplit(' ')\n",
    "    word = values[0]\n",
    "    coefs = np.asarray(values[1:], dtype='float32')\n",
    "    embeddings_index[word] = coefs\n",
    "f.close()\n",
    "print('found %s word vectors' % len(embeddings_index))"
   ]
  },
  {
   "cell_type": "code",
   "execution_count": 4,
   "metadata": {},
   "outputs": [
    {
     "name": "stdout",
     "output_type": "stream",
     "text": [
      "('key = ', [u'content', u'language', u'vote_up_count', u'vote_funny_count', u'comment_count'])\n",
      "done\n"
     ]
    }
   ],
   "source": [
    "import xlrd\n",
    "\n",
    "#输入文件路径，返回list;list内包含n个字典形式数据集\n",
    "def read_xlsx(path):\n",
    "    book = xlrd.open_workbook(path)\n",
    "    first_sheet = book.sheet_by_index(0)\n",
    "    result = []\n",
    "    index = 0\n",
    "    #print(first_sheet.row_values(3))\n",
    "    key = first_sheet.row_values(index)\n",
    "    print('key = ',key)\n",
    "    index += 1\n",
    "    while(1):\n",
    "        try:\n",
    "            #print(type(first_sheet.row_values(index)))\n",
    "            dic = dict(zip(key,first_sheet.row_values(index)))\n",
    "            result.append(dic)\n",
    "            index += 1\n",
    "        except Exception:\n",
    "            break\n",
    "    print('done')\n",
    "    # print('result = ',result)\n",
    "    return result, key\n",
    "\n",
    "xlsx_file = './reviews_language_helpful_funny_comment_stripped.xlsx'\n",
    "data_dict, label_name = read_xlsx(xlsx_file)"
   ]
  },
  {
   "cell_type": "code",
   "execution_count": 5,
   "metadata": {},
   "outputs": [],
   "source": [
    "def zt(data):\n",
    "\tweight_vote_up = 1.0\n",
    "\tweight_vote_funny = 0.5\n",
    "\tweight_comment = 2.0\n",
    "\tmax = 0.0\n",
    "\ttemp = 0.0\n",
    "\tnew_data = list()\n",
    "\tfor votes in data:\n",
    "\t\tif(votes['vote_up_count']==0.0 and votes['vote_funny_count']==0.0 and votes['comment_count']==0.0):\n",
    "\t\t\tcontinue\n",
    "\t\tvotes['weight_temp']=votes['vote_up_count']*weight_vote_up + votes['vote_funny_count']*weight_vote_funny + votes[ 'comment_count']*weight_comment\n",
    "\t\tnew_data.append(votes)\n",
    "\t\tif(max < votes['weight_temp']):\n",
    "\t\t\tmax = votes['weight_temp']\n",
    "\n",
    "\tzt_list = list()\n",
    "\tzt_gay_list = list()\n",
    "\tfor i in range(int(max*2)+1):\n",
    "\t\tzt_list.append(0)\n",
    "\tfor votes in new_data:\n",
    "\t\tzt_list[int(votes['weight_temp']*2)]=zt_list[int(votes['weight_temp']*2)] + 1\n",
    "\tlenge = len(new_data)\n",
    "\tfor i in range(int(max*2)+1):\n",
    "\t\tzt_gay_list.append((temp+zt_list[i]/2)/lenge)\n",
    "\t\ttemp = temp + zt_list[i]\n",
    "\n",
    "\tfor votes in new_data:\n",
    "\t\tvotes['score'] = zt_gay_list[int(votes['weight_temp']*2)]\n",
    "\t\tif(votes['score']<0.2):\n",
    "\t\t\tvotes['class'] = [1,0,0,0]\n",
    "\t\telif(votes['score']<0.5):\n",
    "\t\t\tvotes['class'] = [0,1,0,0]\n",
    "\t\telif(votes['score']<0.8):\n",
    "\t\t\tvotes['class'] = [0,0,1,0]\n",
    "\t\telse:\n",
    "\t\t\tvotes['class'] = [0,0,0,1]\n",
    "\t\tdel votes['vote_up_count']\n",
    "\t\tdel votes['vote_funny_count']\n",
    "\t\tdel votes['comment_count']\n",
    "\t\tdel votes['weight_temp']\n",
    "\n",
    "\treturn new_data"
   ]
  },
  {
   "cell_type": "code",
   "execution_count": 6,
   "metadata": {},
   "outputs": [
    {
     "name": "stdout",
     "output_type": "stream",
     "text": [
      "set([u'portuguese', u'german', u'japanese', u'spanish', u'polish', u'swedish', u'turkish', u'romanian', u'czech', u'dutch', u'schinese', u'danish', u'bulgarian', u'hungarian', u'ukrainian', u'brazilian', u'french', u'norwegian', u'koreana', u'russian', u'thai', u'tchinese', u'finnish', u'greek', u'english', u'italian'])\n"
     ]
    }
   ],
   "source": [
    "# languages\n",
    "languages = set()\n",
    "for data in data_dict:\n",
    "    languages.add(data['language'])\n",
    "print(languages)\n",
    "current_language = 'english'"
   ]
  },
  {
   "cell_type": "code",
   "execution_count": 7,
   "metadata": {},
   "outputs": [],
   "source": [
    "# read\n",
    "current_language_data = [data for data in data_dict if data['language'] == current_language ]"
   ]
  },
  {
   "cell_type": "code",
   "execution_count": 8,
   "metadata": {},
   "outputs": [
    {
     "data": {
      "text/plain": [
       "[{u'comment_count': 1.0,\n",
       "  u'content': u'Wayyyyy better than GTA:IV',\n",
       "  u'language': u'english',\n",
       "  u'vote_funny_count': 0.0,\n",
       "  u'vote_up_count': 0.0},\n",
       " {u'comment_count': 1.0,\n",
       "  u'content': u'IMO, the best GTA. If not just for the voice acting.',\n",
       "  u'language': u'english',\n",
       "  u'vote_funny_count': 0.0,\n",
       "  u'vote_up_count': 0.0},\n",
       " {u'comment_count': 0.0,\n",
       "  u'content': u'Just awesome. Awesomeness by awesome.',\n",
       "  u'language': u'english',\n",
       "  u'vote_funny_count': 0.0,\n",
       "  u'vote_up_count': 1.0}]"
      ]
     },
     "execution_count": 8,
     "metadata": {},
     "output_type": "execute_result"
    }
   ],
   "source": [
    "current_language_data[:3]"
   ]
  },
  {
   "cell_type": "code",
   "execution_count": 9,
   "metadata": {},
   "outputs": [],
   "source": [
    "current_language_data = zt(current_language_data)"
   ]
  },
  {
   "cell_type": "code",
   "execution_count": 10,
   "metadata": {},
   "outputs": [],
   "source": [
    "raw_docs_train = [ data['content'] for data in current_language_data]\n",
    "labels = [ data['class'] for data in current_language_data]"
   ]
  },
  {
   "cell_type": "code",
   "execution_count": 11,
   "metadata": {},
   "outputs": [
    {
     "name": "stdout",
     "output_type": "stream",
     "text": [
      "[[0, 0, 1, 0], [0, 1, 0, 0], [0, 1, 0, 0], [0, 0, 1, 0], [0, 0, 1, 0]]\n"
     ]
    }
   ],
   "source": [
    "print(labels[10:15])"
   ]
  },
  {
   "cell_type": "code",
   "execution_count": 12,
   "metadata": {},
   "outputs": [
    {
     "name": "stdout",
     "output_type": "stream",
     "text": [
      "8000\n"
     ]
    }
   ],
   "source": [
    "#visualize word distribution\n",
    "# train_df['doc_len'] = train_df['comment_text'].apply(lambda words: len(words.split(\" \")))\n",
    "# max_seq_len = np.round(train_df['doc_len'].mean() + train_df['doc_len'].std()).astype(int)\n",
    "# sns.distplot(train_df['doc_len'], hist=True, kde=True, color='b', label='doc len')\n",
    "# plt.axvline(x=max_seq_len, color='k', linestyle='--', label='max len')\n",
    "# plt.title('comment length'); plt.legend()\n",
    "# plt.show()\n",
    "max_seq_len = 0\n",
    "for data in current_language_data:\n",
    "    max_seq_len = max(len(data['content']), max_seq_len)\n",
    "print(max_seq_len)"
   ]
  },
  {
   "cell_type": "code",
   "execution_count": 13,
   "metadata": {},
   "outputs": [
    {
     "name": "stderr",
     "output_type": "stream",
     "text": [
      "  7%|▋         | 1656/24691 [00:00<00:01, 16529.43it/s]"
     ]
    },
    {
     "name": "stdout",
     "output_type": "stream",
     "text": [
      "pre-processing train data...\n"
     ]
    },
    {
     "name": "stderr",
     "output_type": "stream",
     "text": [
      "100%|██████████| 24691/24691 [00:00<00:00, 26454.11it/s]\n"
     ]
    }
   ],
   "source": [
    "print(\"pre-processing train data...\")\n",
    "processed_docs = []\n",
    "for doc in tqdm(raw_docs_train):\n",
    "    tokens = tokenizer.tokenize(doc)\n",
    "    filtered = [word for word in tokens if word not in stop_words]\n",
    "    processed_docs.append(\" \".join(filtered))"
   ]
  },
  {
   "cell_type": "code",
   "execution_count": 14,
   "metadata": {},
   "outputs": [
    {
     "data": {
      "text/plain": [
       "[u'Wayyyyy better GTA IV',\n",
       " u'IMO best GTA If voice acting',\n",
       " u'Just awesome Awesomeness awesome',\n",
       " u'Gimme ticket']"
      ]
     },
     "execution_count": 14,
     "metadata": {},
     "output_type": "execute_result"
    }
   ],
   "source": [
    "processed_docs[:4]"
   ]
  },
  {
   "cell_type": "code",
   "execution_count": 15,
   "metadata": {},
   "outputs": [
    {
     "name": "stdout",
     "output_type": "stream",
     "text": [
      "tokenizing input data...\n",
      "('dictionary size: ', 35988)\n"
     ]
    }
   ],
   "source": [
    "print(\"tokenizing input data...\")\n",
    "tokenizer = Tokenizer(num_words=MAX_NB_WORDS, lower=True, char_level=False)\n",
    "tokenizer.fit_on_texts(processed_docs)  #leaky\n",
    "word_seq = tokenizer.texts_to_sequences(processed_docs)\n",
    "word_index = tokenizer.word_index\n",
    "print(\"dictionary size: \", len(word_index))"
   ]
  },
  {
   "cell_type": "code",
   "execution_count": 16,
   "metadata": {},
   "outputs": [],
   "source": [
    "word_seq = sequence.pad_sequences(word_seq, maxlen=max_seq_len)"
   ]
  },
  {
   "cell_type": "code",
   "execution_count": 17,
   "metadata": {},
   "outputs": [],
   "source": [
    "y_all = np.array(labels)"
   ]
  },
  {
   "cell_type": "code",
   "execution_count": 18,
   "metadata": {},
   "outputs": [
    {
     "name": "stdout",
     "output_type": "stream",
     "text": [
      "GPUS:8\n"
     ]
    }
   ],
   "source": [
    "import tensorflow as tf\n",
    "from tensorflow.python.client import device_lib\n",
    "def get_available_gpus():\n",
    "    local_device_protos = device_lib.list_local_devices()\n",
    "    return len([x.name for x in local_device_protos if x.device_type == 'GPU'])\n",
    "num_gpus = get_available_gpus()\n",
    "print(\"GPUS:{}\".format(num_gpus))"
   ]
  },
  {
   "cell_type": "code",
   "execution_count": 19,
   "metadata": {},
   "outputs": [],
   "source": [
    "#training params\n",
    "batch_size = 256 \n",
    "num_epochs = 20 \n",
    "num_gpus = num_gpus\n",
    "\n",
    "#model parameters\n",
    "num_filters = 64 \n",
    "embed_dim = 300 \n",
    "weight_decay = 1e-4\n",
    "learning_rate = 0.001\n",
    "\n",
    "#output parameters\n",
    "num_classes = 4\n",
    "\n",
    "#data split\n",
    "split_persentage = 0.8\n",
    "split_index = int(len(word_seq) * split_persentage)\n",
    "word_seq_train = word_seq[:split_index]\n",
    "word_seq_test = word_seq[split_index:]\n",
    "y_train = y_all[:split_index]\n",
    "y_test = y_all[split_index:]"
   ]
  },
  {
   "cell_type": "code",
   "execution_count": 20,
   "metadata": {},
   "outputs": [
    {
     "name": "stdout",
     "output_type": "stream",
     "text": [
      "preparing embedding matrix...\n",
      "number of null word embeddings: 9533\n"
     ]
    }
   ],
   "source": [
    "#embedding matrix\n",
    "print('preparing embedding matrix...')\n",
    "words_not_found = []\n",
    "nb_words = min(MAX_NB_WORDS, len(word_index))\n",
    "embedding_matrix = np.zeros((nb_words, embed_dim))\n",
    "for word, i in word_index.items():\n",
    "    if i >= nb_words:\n",
    "        continue\n",
    "    embedding_vector = embeddings_index.get(word)\n",
    "    if (embedding_vector is not None) and len(embedding_vector) > 0:\n",
    "        # words not found in embedding index will be all-zeros.\n",
    "        embedding_matrix[i] = embedding_vector\n",
    "    else:\n",
    "        words_not_found.append(word)\n",
    "print('number of null word embeddings: %d' % np.sum(np.sum(embedding_matrix, axis=1) == 0))"
   ]
  },
  {
   "cell_type": "code",
   "execution_count": 21,
   "metadata": {},
   "outputs": [
    {
     "name": "stdout",
     "output_type": "stream",
     "text": [
      "('sample words not found: ', array([u'32523205', u'138s', u'158', u'hxn8', u'tacofiction', u'mate2',\n",
      "       u'saaaaaandy', u'reflexs', u'concluzie', u'krokodilopolis',\n",
      "       u'ilovethisgame', u'\\u0e01\\u0e32\\u0e23\\u0e01\\u0e25', u'bugishit',\n",
      "       u'c6', u'anywhom', u'lightning2', u'77', u'\\u0e19\\u0e40\\u0e1b',\n",
      "       u'eargrading', u'7600k'], dtype='<U3577'))\n"
     ]
    }
   ],
   "source": [
    "print(\"sample words not found: \", np.random.choice(words_not_found, 20))"
   ]
  },
  {
   "cell_type": "code",
   "execution_count": 22,
   "metadata": {},
   "outputs": [],
   "source": [
    "# **BUG FIX**\n",
    "# BUG FIXED: cannot save model while using multi GPU \n",
    "\n",
    "from keras.layers import Lambda, concatenate\n",
    "from keras import Model\n",
    "import tensorflow as tf\n",
    "\n",
    "\n",
    "def multi_gpu_model(model, gpus):\n",
    "    if isinstance(gpus, (list, tuple)):\n",
    "        num_gpus = len(gpus)\n",
    "        target_gpu_ids = gpus\n",
    "    else:\n",
    "        num_gpus = gpus\n",
    "        target_gpu_ids = range(num_gpus)\n",
    "\n",
    "    def get_slice(data, i, parts):\n",
    "        shape = tf.shape(data)\n",
    "        batch_size = shape[:1]\n",
    "        input_shape = shape[1:]\n",
    "        step = batch_size // parts\n",
    "        if i == num_gpus - 1:\n",
    "            size = batch_size - step * i\n",
    "        else:\n",
    "            size = step\n",
    "        size = tf.concat([size, input_shape], axis=0)\n",
    "        stride = tf.concat([step, input_shape * 0], axis=0)\n",
    "        start = stride * i\n",
    "        return tf.slice(data, start, size)\n",
    "\n",
    "    all_outputs = []\n",
    "    for i in range(len(model.outputs)):\n",
    "        all_outputs.append([])\n",
    "\n",
    "    # Place a copy of the model on each GPU,\n",
    "    # each getting a slice of the inputs.\n",
    "    for i, gpu_id in enumerate(target_gpu_ids):\n",
    "        with tf.device('/gpu:%d' % gpu_id):\n",
    "            with tf.name_scope('replica_%d' % gpu_id):\n",
    "                inputs = []\n",
    "                # Retrieve a slice of the input.\n",
    "                for x in model.inputs:\n",
    "                    input_shape = tuple(x.get_shape().as_list())[1:]\n",
    "                    slice_i = Lambda(get_slice,\n",
    "                                     output_shape=input_shape,\n",
    "                                     arguments={'i': i,\n",
    "                                                'parts': num_gpus})(x)\n",
    "                    inputs.append(slice_i)\n",
    "\n",
    "                # Apply model on slice\n",
    "                # (creating a model replica on the target device).\n",
    "                outputs = model(inputs)\n",
    "                if not isinstance(outputs, list):\n",
    "                    outputs = [outputs]\n",
    "\n",
    "                # Save the outputs for merging back together later.\n",
    "                for o in range(len(outputs)):\n",
    "                    all_outputs[o].append(outputs[o])\n",
    "\n",
    "    # Merge outputs on CPU.\n",
    "    with tf.device('/cpu:0'):\n",
    "        merged = []\n",
    "        for name, outputs in zip(model.output_names, all_outputs):\n",
    "            merged.append(concatenate(outputs,\n",
    "                                      axis=0, name=name))\n",
    "        return Model(model.inputs, merged)\n"
   ]
  },
  {
   "cell_type": "code",
   "execution_count": 34,
   "metadata": {},
   "outputs": [
    {
     "name": "stdout",
     "output_type": "stream",
     "text": [
      "training CNN ...\n",
      "Training using single GPU or CPU..\n",
      "_________________________________________________________________\n",
      "Layer (type)                 Output Shape              Param #   \n",
      "=================================================================\n",
      "embedding_4 (Embedding)      (None, 8000, 300)         10796400  \n",
      "_________________________________________________________________\n",
      "conv1d_7 (Conv1D)            (None, 8000, 64)          134464    \n",
      "_________________________________________________________________\n",
      "max_pooling1d_4 (MaxPooling1 (None, 4000, 64)          0         \n",
      "_________________________________________________________________\n",
      "conv1d_8 (Conv1D)            (None, 4000, 64)          28736     \n",
      "_________________________________________________________________\n",
      "global_max_pooling1d_4 (Glob (None, 64)                0         \n",
      "_________________________________________________________________\n",
      "dense_10 (Dense)             (None, 32)                2080      \n",
      "_________________________________________________________________\n",
      "dropout_7 (Dropout)          (None, 32)                0         \n",
      "_________________________________________________________________\n",
      "dense_11 (Dense)             (None, 16)                528       \n",
      "_________________________________________________________________\n",
      "dropout_8 (Dropout)          (None, 16)                0         \n",
      "_________________________________________________________________\n",
      "dense_12 (Dense)             (None, 1)                 17        \n",
      "=================================================================\n",
      "Total params: 10,962,225\n",
      "Trainable params: 165,825\n",
      "Non-trainable params: 10,796,400\n",
      "_________________________________________________________________\n"
     ]
    }
   ],
   "source": [
    "#Model architecture\n",
    "print(\"training CNN ...\")\n",
    "model = Sequential()\n",
    "model.add(Embedding(nb_words, embed_dim,\n",
    "          weights=[embedding_matrix], input_length=max_seq_len, trainable=False))\n",
    "model.add(Conv1D(num_filters, 7, activation='relu', padding='same'))\n",
    "model.add(MaxPooling1D(2))\n",
    "model.add(Conv1D(num_filters, 7, activation='relu', padding='same'))\n",
    "model.add(GlobalMaxPooling1D())\n",
    "# model.add(LSTM(128, dropout=0.2, recurrent_dropout=0.2))\n",
    "model.add(Dense(32, activation='relu', kernel_regularizer=regularizers.l2(weight_decay)))\n",
    "model.add(Dropout(0.5))\n",
    "model.add(Dense(16, activation='relu', kernel_regularizer=regularizers.l2(weight_decay)))\n",
    "model.add(Dropout(0.5))\n",
    "model.add(Dense(1, activation='sigmoid'))  #multi-label (k-hot encoding)\n",
    "\n",
    "adam = optimizers.Adam(lr=learning_rate, beta_1=0.9, beta_2=0.999, epsilon=1e-08, decay=0.0)\n",
    "try:\n",
    "    model = ulti_gpu_model(model, gpus=num_gpus)\n",
    "    print(\"Training using multiple GPUs..\")\n",
    "except:\n",
    "    print(\"Training using single GPU or CPU..\")\n",
    "model.compile(loss='binary_crossentropy', optimizer=adam, metrics=['accuracy'])\n",
    "model.summary()"
   ]
  },
  {
   "cell_type": "code",
   "execution_count": 24,
   "metadata": {},
   "outputs": [],
   "source": [
    "# save model\n",
    "\n",
    "# early_stopping = EarlyStopping(monitor='val_loss', min_delta=0.01, patience=4, verbose=1)\n",
    "# callbacks_list = [early_stopping]\n",
    "filepath = current_language + '.' + 'weights.ep{epoch:03d}.loss{loss:.3f}.val_loss{val_loss:.3f}.h5'\n",
    "checkpoint = ModelCheckpoint(filepath, monitor='val_loss', verbose=0, save_best_only=False, save_weights_only=False, mode='auto', period=1)\n",
    "callbacks_list = [checkpoint]"
   ]
  },
  {
   "cell_type": "code",
   "execution_count": 25,
   "metadata": {},
   "outputs": [
    {
     "name": "stdout",
     "output_type": "stream",
     "text": [
      "Train on 17776 samples, validate on 1976 samples\n",
      "Epoch 1/20\n",
      "17776/17776 [==============================] - 20s 1ms/step - loss: 0.5608 - acc: 0.7493 - val_loss: 0.5422 - val_acc: 0.7500\n",
      "Epoch 2/20\n",
      "17776/17776 [==============================] - 6s 365us/step - loss: 0.5444 - acc: 0.7499 - val_loss: 0.5275 - val_acc: 0.7500\n",
      "Epoch 3/20\n",
      "17776/17776 [==============================] - 6s 357us/step - loss: 0.5337 - acc: 0.7506 - val_loss: 0.5172 - val_acc: 0.7504\n",
      "Epoch 4/20\n",
      "17776/17776 [==============================] - 6s 351us/step - loss: 0.5300 - acc: 0.7508 - val_loss: 0.5156 - val_acc: 0.7503\n",
      "Epoch 5/20\n",
      "17776/17776 [==============================] - 6s 362us/step - loss: 0.5274 - acc: 0.7515 - val_loss: 0.5134 - val_acc: 0.7505\n",
      "Epoch 6/20\n",
      "17776/17776 [==============================] - 6s 355us/step - loss: 0.5239 - acc: 0.7522 - val_loss: 0.5200 - val_acc: 0.7514\n",
      "Epoch 7/20\n",
      "17776/17776 [==============================] - 6s 353us/step - loss: 0.5228 - acc: 0.7536 - val_loss: 0.5161 - val_acc: 0.7515\n",
      "Epoch 8/20\n",
      "17776/17776 [==============================] - 6s 364us/step - loss: 0.5163 - acc: 0.7584 - val_loss: 0.5161 - val_acc: 0.7514\n",
      "Epoch 9/20\n",
      "17776/17776 [==============================] - 6s 352us/step - loss: 0.5074 - acc: 0.7646 - val_loss: 0.5216 - val_acc: 0.7534\n",
      "Epoch 10/20\n",
      "17776/17776 [==============================] - 6s 354us/step - loss: 0.4983 - acc: 0.7696 - val_loss: 0.5190 - val_acc: 0.7573\n",
      "Epoch 11/20\n",
      "17776/17776 [==============================] - 6s 363us/step - loss: 0.4827 - acc: 0.7786 - val_loss: 0.5232 - val_acc: 0.7586\n",
      "Epoch 12/20\n",
      "17776/17776 [==============================] - 6s 354us/step - loss: 0.4611 - acc: 0.7891 - val_loss: 0.5577 - val_acc: 0.7605\n",
      "Epoch 13/20\n",
      "17776/17776 [==============================] - 6s 355us/step - loss: 0.4433 - acc: 0.7969 - val_loss: 0.5620 - val_acc: 0.7563\n",
      "Epoch 14/20\n",
      "17776/17776 [==============================] - 6s 361us/step - loss: 0.4277 - acc: 0.8037 - val_loss: 0.6012 - val_acc: 0.7591\n",
      "Epoch 15/20\n",
      "17776/17776 [==============================] - 6s 355us/step - loss: 0.4014 - acc: 0.8141 - val_loss: 0.5871 - val_acc: 0.7581\n",
      "Epoch 16/20\n",
      "17776/17776 [==============================] - 6s 359us/step - loss: 0.3826 - acc: 0.8199 - val_loss: 0.6534 - val_acc: 0.7582\n",
      "Epoch 17/20\n",
      "17776/17776 [==============================] - 6s 359us/step - loss: 0.3678 - acc: 0.8261 - val_loss: 0.7252 - val_acc: 0.7584\n",
      "Epoch 18/20\n",
      "17776/17776 [==============================] - 6s 355us/step - loss: 0.3601 - acc: 0.8275 - val_loss: 0.7403 - val_acc: 0.7558\n",
      "Epoch 19/20\n",
      "17776/17776 [==============================] - 6s 361us/step - loss: 0.3465 - acc: 0.8332 - val_loss: 0.7657 - val_acc: 0.7566\n",
      "Epoch 20/20\n",
      "17776/17776 [==============================] - 6s 358us/step - loss: 0.3408 - acc: 0.8356 - val_loss: 0.7316 - val_acc: 0.7518\n"
     ]
    }
   ],
   "source": [
    "#model training\n",
    "hist = model.fit(word_seq_train, y_train, batch_size=batch_size, epochs=num_epochs, callbacks=callbacks_list, validation_split=0.1, shuffle=True, verbose=1)"
   ]
  },
  {
   "cell_type": "code",
   "execution_count": 26,
   "metadata": {},
   "outputs": [
    {
     "data": {
      "text/plain": [
       "['acc', 'loss', 'val_acc', 'val_loss']"
      ]
     },
     "execution_count": 26,
     "metadata": {},
     "output_type": "execute_result"
    }
   ],
   "source": [
    "hist.history.keys()"
   ]
  },
  {
   "cell_type": "code",
   "execution_count": 28,
   "metadata": {},
   "outputs": [
    {
     "data": {
      "image/png": "[encoded data removed]",
      "text/plain": [
       "<Figure size 432x288 with 1 Axes>"
      ]
     },
     "metadata": {},
     "output_type": "display_data"
    }
   ],
   "source": [
    "train_history = hist\n",
    "loss = train_history.history['loss']\n",
    "val_loss = train_history.history['val_loss']\n",
    "plt.plot(loss)\n",
    "plt.plot(val_loss)\n",
    "plt.legend(['loss', 'val_loss'])\n",
    "plt.show()"
   ]
  },
  {
   "cell_type": "code",
   "execution_count": 35,
   "metadata": {},
   "outputs": [],
   "source": [
    "from keras.utils.vis_utils import plot_model\n",
    "plot_model(model, to_file='model_plot.png', show_shapes=True, show_layer_names=True)"
   ]
  },
  {
   "cell_type": "code",
   "execution_count": null,
   "metadata": {},
   "outputs": [],
   "source": []
  }
 ],
 "metadata": {
  "kernelspec": {
   "display_name": "Python 2",
   "language": "python",
   "name": "python2"
  },
  "language_info": {
   "codemirror_mode": {
    "name": "ipython",
    "version": 2
   },
   "file_extension": ".py",
   "mimetype": "text/x-python",
   "name": "python",
   "nbconvert_exporter": "python",
   "pygments_lexer": "ipython2",
   "version": "2.7.15"
  }
 },
 "nbformat": 4,
 "nbformat_minor": 2
}
