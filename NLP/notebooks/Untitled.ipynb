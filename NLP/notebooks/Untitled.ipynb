{
 "cells": [
  {
   "cell_type": "code",
   "execution_count": 1,
   "metadata": {},
   "outputs": [],
   "source": [
    "data = './data/reviews_to_weight.xlsx'"
   ]
  },
  {
   "cell_type": "code",
   "execution_count": 2,
   "metadata": {},
   "outputs": [
    {
     "name": "stderr",
     "output_type": "stream",
     "text": [
      "/Users/srt_kid/anaconda3/envs/tensorflow/lib/python3.5/site-packages/h5py/__init__.py:36: FutureWarning: Conversion of the second argument of issubdtype from `float` to `np.floating` is deprecated. In future, it will be treated as `np.float64 == np.dtype(float).type`.\n",
      "  from ._conv import register_converters as _register_converters\n",
      "Using TensorFlow backend.\n"
     ]
    }
   ],
   "source": [
    "from utils import read_xlsx"
   ]
  },
  {
   "cell_type": "code",
   "execution_count": 3,
   "metadata": {},
   "outputs": [
    {
     "name": "stdout",
     "output_type": "stream",
     "text": [
      "key =  ['recommendationid', 'content', 'language']\n",
      "done\n"
     ]
    }
   ],
   "source": [
    "data, keys = read_xlsx(data)"
   ]
  },
  {
   "cell_type": "code",
   "execution_count": 4,
   "metadata": {},
   "outputs": [
    {
     "name": "stdout",
     "output_type": "stream",
     "text": [
      "[{'language': 'english', 'content': 'SHIT CJ WE GOTTA GET BACK TO THE HOOD\\n\\n*ahem*\\n\\nA word of warning: Rockstar has changed the Steam version of San Andreas from its original release. It has native Xbox controller support and higher-fidelity graphics on par with the 2014 re-release, but also less resolution options, less music tracks due to licensing issues (check [url=http://www.neogaf.com/forum/showthread.php?t=928747]here[/url] for a list of what was removed) and breaks some old saves. You can find information on unofficial fixes for this stuff [url=https://steamcommunity.com/app/12120/discussions/0/34096318964479523/]here[/url].\\n\\n\\nAnyway. San Andreas is the fifth game in the Grand Theft Auto series, released in 2004. You\\'ve probably heard of the series if you\\'re browsing this website, but if you haven\\'t it\\'s basically they\\'re open-world sandbox games that let you simulate low-rent gangster movies. This particular entry has somewhat clunky controls and the graphics were bad even when it came out, if still charming in their own way.\\n\\nBut I ultimately think San Andreas is the best game in the series, and not just because it has \\'the most to do\\'. Grand Theft Auto V is technically higher on the \\'fun scale\\' with superior gameplay, superior graphics and more optional side activities; it\\'s certainly fun to play. The titles [i]before[/i] SA are really more valuable as pieces of gaming history, since they were generally more janky & limited, and even more cliched, than SA. And while SA is a functional game that absolutely has its charm - I\\'m partial to its pastiche of the 90s myself - that\\'s not the main reason I\\'m saying it\\'s the best.\\n\\n\\nNo, my reasoning has to do with the story and the tone. GTA V\\'s story is interesting enough in a doofy crime capers way, but the tone of that game is ultimately aggressively nihilistic and uncaring about almost anything within itself. Not to say these elements aren\\'t present in San Andreas, but they\\'re not nearly as strong or disheartening here.\\n\\nGTA IV is better than V in this regard, I\\'d say, but it\\'s not off the hook. It tried to be more serious, and while it made strides in that direction, the weight of its open-world gameplay ambitions ultimately hamstrung its story. I didn\\'t mind its more muted tone, \\'realistic\\' driving and lack of cheat codes (for the base game anyway), but there\\'s no getting around the fact that having a main character who bemoans the atrocities of the Balkan Wars he survived but is perfectly able to wantonly run over pedestrians is...odd. The final act of the story resembling a cheap mafia film didn\\'t exactly help either.\\n\\nSan Andreas, by contrast, doesn\\'t just exist primarily to \"poke fun\" at American society so much as it tries to tell a story about a West Coast gangbanger with a heart of gold, trying to do right for his lower-class neighborhood, family and gang within the moral construct (and repressive society) he was born and raised in. It\\'s ultimately more genuine than V because it cares enough about its characters not to utterly derail itself every time the game displays pathos for them. It\\'s also not self-important enough to pretend that it wouldn\\'t be a bad thing if it [i]did[/i] do that. Perhaps most importantly, it\\'s self-aware enough not to be stony-faced at every turn it takes. It also helps that the game\\'s loaded with memorable quotes and characters.\\n\\n\\nThe characters themselves might not be particularly more savory, and certainly there\\'s stereotypical/exaggerated behavior going on, but at least SA doesn\\'t furiously punch in every direction or practically flash \"LAUGH AT THESE SAD LOSERS WHO ARE ALSO YOU, LOSER\" on the screen every time you see them interact with each other.\\n\\nNot that this game is a literary masterpiece by any means, but it\\'s the closest the series has come to that level. And while GTA IV was also trying to operate on the same level, albeit with its own direction and its own flaws, V was just a step back in this regard. There\\'s always been puerile satire of society and voyeuristic displays of women in the 3D GTA games, including in San Andreas, and it\\'s always gotten disheartening if you played for long enough, but SA...isn\\'t quite as bad in this regard, I feel. There\\'s enough determination and hope in the story for the game not to crash and burn at least, although it\\'s long enough that it does drag in parts.\\n\\n\\nI still resent whenever the game shoves boobs, \\'sexy wimmins\\' and other series-standard female objectification in my face without comment, of course. Nothing is perfect. I also think it\\'s still a bit weird that CJ comes across as a pretty decent dude, perhaps the most \\'good\\' in the series, trying to do what he can and make the best of a pretty bad situation, and yet the game still gives you the option to go on classic GTA rampages.\\n\\nMaybe there\\'s something to be said for the tension between open-world game structure and any semblance of a plot. Whatever the case may be, San Andreas doesn\\'t gel perfectly. GTA IV suffered from this problem too, and both games - hell, pretty much the entire series - also suffer from a number of frustrating missions. Following a damn train was never so difficult.\\n\\n\\nThe game world is obviously not as realistic as V\\'s due to the technological constraints of 2004, which means that the game isn\\'t trying to sell itself as a perfect graphical model of Real Life™ that\\'s fatally flawed by crazy AI behavior. The game looks enough [i]like a game[/i] that it\\'s not [i]quite[/i] as jarring when something insane happens on the street next to you. (San Andreas\\' modding support is at least better than V\\'s, and I say this because I couldn\\'t find anywhere else in the review to stick it.)\\n\\n\\nWhile I don\\'t know if I\\'d call this one of the best games ever made, it\\'s still an influential classic in its genre. Pick it up if it\\'s on sale and you\\'re interested.', 'recommendationid': 1874132.0}, {'language': 'english', 'content': \"It's the most selled game of his serie and one of the top sold games in history. Every Play Station 2 gamer had a copy of this. Buy it and keep playing.\", 'recommendationid': 6112114.0}, {'language': 'english', 'content': \"Somehow, this game has held up pretty goddamn well, even nearly 15 years later. \\n\\nThe radio soundtrack is fantastic (I'm partial to Bounce FM and K-DST myself), the story and voice acting is pretty damn good for 2004, and the map feels large yet isn't a barren wasteland like 66% of GTA 5. This game gets the 1990s vibe down pat with the aforementioned soundtrack, cars, and cultural references. One can mod it 'til kingdom come too, assuming they take some necessary steps to do so. My only issue is that the game doesn't handle 60 FPS too well and the controls on PC aren't entirely ideal.\\n\\nThis is the most memed-up and beloved GTA game for a reason.\", 'recommendationid': 7791897.0}, {'language': 'english', 'content': 'ALL YOU HAD TO DO WAS FOLLOW THE DAMN TRAIN CJ!!!', 'recommendationid': 13523682.0}, {'language': 'english', 'content': 'After many hours put into the beta and the full release, I can ensure you that this game is the opposite of tactical and great community. You will meet the saltiest, most retarded no-brainers with zero intelligence whatsoever. The \"developers\" wiill go one step forward and three steps back for each \"update\" or so called \"patch\". Good game though.', 'recommendationid': 19405525.0}, {'language': 'schinese', 'content': '行了行了，来来回回加上这次已经改了四回了，就差评不改了。本身一个战术半硬核游戏现在改成了近未来射击游戏；为了平衡性又乱改人物。就这样吧，虽然会继续玩下去，不过谁都能看出来，ubi已经懒得钉懒得管tc棺材板儿了。\\n现在，2018，看看今年e3的tcsc怎么样了，要是这个都能砸了锅，谁爱支持ubi谁去支持吧……\\n几年前用成就拼出来的话渐渐的由吹死裱活变成了心声……哎。\\n妈蛋，对于最近这些屁事儿，这么说吧，声望不退不退了没事，但尼玛R6点涨价了！涨价就涨价了吧，尼玛同捆也涨价了！阿育啊阿育，最近吹的一波你飘了？自己不把自己当人看了？然后最近斗鱼在疯狂招募r6主播，tx也开始有代理的意向，外挂又有抬头的迹象，整个游戏笼罩在了悲观的气氛中。哎，作吧。\\n最后说一句，为了这个游戏的生态，求求你别支持win7了，也别再卖新手版了。\\n\\n代理实锤了。好吧，那就请tx去打击下某个山寨的手游吧。这是他现阶段能干的最有价值的事情了。', 'recommendationid': 19425873.0}, {'language': 'schinese', 'content': '我们不需要腾讯\\n저희가 텐센트가 필요없어요.\\nnon-essential; have no use for Tencent\\n要らないテンセント\\nنحن لا نحتاج إلى تينسنت \\nnie musimy iść\\n저희가 텐센트가 필요없어요.\\nvi har ikke brug for tencent', 'recommendationid': 19470975.0}, {'language': 'english', 'content': \"The worst love-hate relationship that you won't regret.\", 'recommendationid': 19494601.0}, {'language': 'schinese', 'content': '什么给腾讯代理？有复活币吗？', 'recommendationid': 19526533.0}, {'language': 'schinese', 'content': '最喜爱的游戏 网上传闻腾讯的WE GAME平台要代理围攻？而且育碧要把运营权交给腾讯？不能和老外玩？来个中国局域网围攻？ 如果腾讯代理彩虹六号，是不是中国大陆人在STEAM上就买不到彩虹六号了？几年后的彩虹六号新作也不能买了？会锁区吗？不要啊，我不可能去买腾讯代理的。 如果被腾讯TX代理，STEAM锁区，我只能说戒掉游戏。不玩了。byebye! 最怕的就是和使命召唤COD一样，永远锁区。真是怕什么来什么！使命召唤4到13我也不能买，而我没花一分钱给腾讯代理的使命召唤ONLINE。 STEAM几百元就搞定了，腾讯TX肯定皮肤就要几千块！黑心的腾讯TX！以后如果腾讯TX代理育碧的游戏，我就和育碧球分手~~伤心。我只是请求不要让腾讯代理。STEAM上大量中文差评都是这个看法。', 'recommendationid': 19598319.0}]\n"
     ]
    }
   ],
   "source": [
    "print(data[0:10])"
   ]
  },
  {
   "cell_type": "code",
   "execution_count": 5,
   "metadata": {},
   "outputs": [],
   "source": [
    "reviews = {\n",
    "    \"schinese\": list(),\n",
    "    \"english\": list(),\n",
    "    \"japanese\": list(),\n",
    "    \"french\": list()\n",
    "}\n",
    "for r in data:\n",
    "    reviews[r[\"language\"]].append(r)\n",
    "    \n",
    "    "
   ]
  },
  {
   "cell_type": "code",
   "execution_count": 6,
   "metadata": {},
   "outputs": [
    {
     "name": "stdout",
     "output_type": "stream",
     "text": [
      "[{'language': 'schinese', 'content': '行了行了，来来回回加上这次已经改了四回了，就差评不改了。本身一个战术半硬核游戏现在改成了近未来射击游戏；为了平衡性又乱改人物。就这样吧，虽然会继续玩下去，不过谁都能看出来，ubi已经懒得钉懒得管tc棺材板儿了。\\n现在，2018，看看今年e3的tcsc怎么样了，要是这个都能砸了锅，谁爱支持ubi谁去支持吧……\\n几年前用成就拼出来的话渐渐的由吹死裱活变成了心声……哎。\\n妈蛋，对于最近这些屁事儿，这么说吧，声望不退不退了没事，但尼玛R6点涨价了！涨价就涨价了吧，尼玛同捆也涨价了！阿育啊阿育，最近吹的一波你飘了？自己不把自己当人看了？然后最近斗鱼在疯狂招募r6主播，tx也开始有代理的意向，外挂又有抬头的迹象，整个游戏笼罩在了悲观的气氛中。哎，作吧。\\n最后说一句，为了这个游戏的生态，求求你别支持win7了，也别再卖新手版了。\\n\\n代理实锤了。好吧，那就请tx去打击下某个山寨的手游吧。这是他现阶段能干的最有价值的事情了。', 'recommendationid': 19425873.0}, {'language': 'schinese', 'content': '我们不需要腾讯\\n저희가 텐센트가 필요없어요.\\nnon-essential; have no use for Tencent\\n要らないテンセント\\nنحن لا نحتاج إلى تينسنت \\nnie musimy iść\\n저희가 텐센트가 필요없어요.\\nvi har ikke brug for tencent', 'recommendationid': 19470975.0}, {'language': 'schinese', 'content': '什么给腾讯代理？有复活币吗？', 'recommendationid': 19526533.0}, {'language': 'schinese', 'content': '最喜爱的游戏 网上传闻腾讯的WE GAME平台要代理围攻？而且育碧要把运营权交给腾讯？不能和老外玩？来个中国局域网围攻？ 如果腾讯代理彩虹六号，是不是中国大陆人在STEAM上就买不到彩虹六号了？几年后的彩虹六号新作也不能买了？会锁区吗？不要啊，我不可能去买腾讯代理的。 如果被腾讯TX代理，STEAM锁区，我只能说戒掉游戏。不玩了。byebye! 最怕的就是和使命召唤COD一样，永远锁区。真是怕什么来什么！使命召唤4到13我也不能买，而我没花一分钱给腾讯代理的使命召唤ONLINE。 STEAM几百元就搞定了，腾讯TX肯定皮肤就要几千块！黑心的腾讯TX！以后如果腾讯TX代理育碧的游戏，我就和育碧球分手~~伤心。我只是请求不要让腾讯代理。STEAM上大量中文差评都是这个看法。', 'recommendationid': 19598319.0}, {'language': 'schinese', 'content': '不得不说育碧最艰难的时候国内的玩家没有放弃R6选择跟U婊一起攻克难关，现在维旺迪跑了U婊就把我们卖了去抱腾讯爸爸的大腿了？所以UPLAY注定是要PLAYU了', 'recommendationid': 20209619.0}, {'language': 'schinese', 'content': '坚决反对腾讯代理!!!!', 'recommendationid': 20700015.0}, {'language': 'schinese', 'content': '育碧，你背叛了中国玩家。在反抗威望迪时，我们看到的是一家更加为了游戏的公司。这太特殊了，特殊到当你翻身的时候，我们当节日庆祝。\\n然后呢，腾讯是什么垃圾狗屎？你拿着中国的钞票背叛了中国玩家。\\nI loved you', 'recommendationid': 20909506.0}, {'language': 'schinese', 'content': '我说不为啥，就是突然想给个差评你信吗？', 'recommendationid': 20911072.0}, {'language': 'schinese', 'content': '好玩是真心好玩，各种花样各种有趣，不过这游戏简直就是fps的黑魂啊。暂时还在打训练，困难难度就能把我虐哭，更别说拟真，不知道要练到什么时候才敢上对战。话这么说，育碧这次还是够良心，我反正感觉这200块花得值。\\n玩了这么久，追加一点评论，前面的话原封不动，拆迁六号：蹲逼简直有毒，根本停不下来，虽然还是菜，但是越玩越开心，我的打分：9/10.\\n\\n2018年5月5日追加最后评论：\\n如果你曾经爱过这个游戏，那么现在是你放手的最好时机。\\n外挂不是dssq的最大原因，但却是最恶劣的。fxxkyou中国低素质玩家', 'recommendationid': 21123425.0}, {'language': 'schinese', 'content': '垃圾游戏 毁我青春\\n2016年5月11日11:36:57：\\n\\n2018年3月4日21:37:14\\n老玩家不是人啊   买了三年季票只给四个包 季票皮肤到现在没给  新入手玩家却有14个包  老玩家解锁干员和挂件不退钱  新玩家却免费解锁\\n\\n2018年5月19日23:13:16\\n育碧你妈死了   腾讯你妈死了  草你们妈', 'recommendationid': 21300025.0}]\n"
     ]
    }
   ],
   "source": [
    "print(reviews[\"schinese\"][0:10])"
   ]
  },
  {
   "cell_type": "code",
   "execution_count": 7,
   "metadata": {},
   "outputs": [],
   "source": [
    "test = reviews[\"schinese\"][0:100]"
   ]
  },
  {
   "cell_type": "code",
   "execution_count": 8,
   "metadata": {},
   "outputs": [
    {
     "data": {
      "text/plain": [
       "[{'content': '行了行了，来来回回加上这次已经改了四回了，就差评不改了。本身一个战术半硬核游戏现在改成了近未来射击游戏；为了平衡性又乱改人物。就这样吧，虽然会继续玩下去，不过谁都能看出来，ubi已经懒得钉懒得管tc棺材板儿了。\\n现在，2018，看看今年e3的tcsc怎么样了，要是这个都能砸了锅，谁爱支持ubi谁去支持吧……\\n几年前用成就拼出来的话渐渐的由吹死裱活变成了心声……哎。\\n妈蛋，对于最近这些屁事儿，这么说吧，声望不退不退了没事，但尼玛R6点涨价了！涨价就涨价了吧，尼玛同捆也涨价了！阿育啊阿育，最近吹的一波你飘了？自己不把自己当人看了？然后最近斗鱼在疯狂招募r6主播，tx也开始有代理的意向，外挂又有抬头的迹象，整个游戏笼罩在了悲观的气氛中。哎，作吧。\\n最后说一句，为了这个游戏的生态，求求你别支持win7了，也别再卖新手版了。\\n\\n代理实锤了。好吧，那就请tx去打击下某个山寨的手游吧。这是他现阶段能干的最有价值的事情了。',\n",
       "  'language': 'schinese',\n",
       "  'recommendationid': 19425873.0},\n",
       " {'content': '我们不需要腾讯\\n저희가 텐센트가 필요없어요.\\nnon-essential; have no use for Tencent\\n要らないテンセント\\nنحن لا نحتاج إلى تينسنت \\nnie musimy iść\\n저희가 텐센트가 필요없어요.\\nvi har ikke brug for tencent',\n",
       "  'language': 'schinese',\n",
       "  'recommendationid': 19470975.0},\n",
       " {'content': '什么给腾讯代理？有复活币吗？',\n",
       "  'language': 'schinese',\n",
       "  'recommendationid': 19526533.0},\n",
       " {'content': '最喜爱的游戏 网上传闻腾讯的WE GAME平台要代理围攻？而且育碧要把运营权交给腾讯？不能和老外玩？来个中国局域网围攻？ 如果腾讯代理彩虹六号，是不是中国大陆人在STEAM上就买不到彩虹六号了？几年后的彩虹六号新作也不能买了？会锁区吗？不要啊，我不可能去买腾讯代理的。 如果被腾讯TX代理，STEAM锁区，我只能说戒掉游戏。不玩了。byebye! 最怕的就是和使命召唤COD一样，永远锁区。真是怕什么来什么！使命召唤4到13我也不能买，而我没花一分钱给腾讯代理的使命召唤ONLINE。 STEAM几百元就搞定了，腾讯TX肯定皮肤就要几千块！黑心的腾讯TX！以后如果腾讯TX代理育碧的游戏，我就和育碧球分手~~伤心。我只是请求不要让腾讯代理。STEAM上大量中文差评都是这个看法。',\n",
       "  'language': 'schinese',\n",
       "  'recommendationid': 19598319.0},\n",
       " {'content': '不得不说育碧最艰难的时候国内的玩家没有放弃R6选择跟U婊一起攻克难关，现在维旺迪跑了U婊就把我们卖了去抱腾讯爸爸的大腿了？所以UPLAY注定是要PLAYU了',\n",
       "  'language': 'schinese',\n",
       "  'recommendationid': 20209619.0},\n",
       " {'content': '坚决反对腾讯代理!!!!',\n",
       "  'language': 'schinese',\n",
       "  'recommendationid': 20700015.0},\n",
       " {'content': '育碧，你背叛了中国玩家。在反抗威望迪时，我们看到的是一家更加为了游戏的公司。这太特殊了，特殊到当你翻身的时候，我们当节日庆祝。\\n然后呢，腾讯是什么垃圾狗屎？你拿着中国的钞票背叛了中国玩家。\\nI loved you',\n",
       "  'language': 'schinese',\n",
       "  'recommendationid': 20909506.0},\n",
       " {'content': '我说不为啥，就是突然想给个差评你信吗？',\n",
       "  'language': 'schinese',\n",
       "  'recommendationid': 20911072.0},\n",
       " {'content': '好玩是真心好玩，各种花样各种有趣，不过这游戏简直就是fps的黑魂啊。暂时还在打训练，困难难度就能把我虐哭，更别说拟真，不知道要练到什么时候才敢上对战。话这么说，育碧这次还是够良心，我反正感觉这200块花得值。\\n玩了这么久，追加一点评论，前面的话原封不动，拆迁六号：蹲逼简直有毒，根本停不下来，虽然还是菜，但是越玩越开心，我的打分：9/10.\\n\\n2018年5月5日追加最后评论：\\n如果你曾经爱过这个游戏，那么现在是你放手的最好时机。\\n外挂不是dssq的最大原因，但却是最恶劣的。fxxkyou中国低素质玩家',\n",
       "  'language': 'schinese',\n",
       "  'recommendationid': 21123425.0},\n",
       " {'content': '垃圾游戏 毁我青春\\n2016年5月11日11:36:57：\\n\\n2018年3月4日21:37:14\\n老玩家不是人啊   买了三年季票只给四个包 季票皮肤到现在没给  新入手玩家却有14个包  老玩家解锁干员和挂件不退钱  新玩家却免费解锁\\n\\n2018年5月19日23:13:16\\n育碧你妈死了   腾讯你妈死了  草你们妈',\n",
       "  'language': 'schinese',\n",
       "  'recommendationid': 21300025.0},\n",
       " {'content': '排位没法玩，挂太多了',\n",
       "  'language': 'schinese',\n",
       "  'recommendationid': 21494000.0},\n",
       " {'content': '再信腾讯一次，希望这些差评只是跟风，引进国服的最大问题不是代理商，而是玩家的整体素质',\n",
       "  'language': 'schinese',\n",
       "  'recommendationid': 21888180.0},\n",
       " {'content': '拆墙，快乐!!',\n",
       "  'language': 'schinese',\n",
       "  'recommendationid': 22116580.0},\n",
       " {'content': '干你妹儿的土豆服务器',\n",
       "  'language': 'schinese',\n",
       "  'recommendationid': 22126403.0},\n",
       " {'content': '???? ???? ???????? 艹',\n",
       "  'language': 'schinese',\n",
       "  'recommendationid': 22282360.0},\n",
       " {'content': '香港獨立 遠離騰信',\n",
       "  'language': 'schinese',\n",
       "  'recommendationid': 22424888.0},\n",
       " {'content': 'TX：不充钱如何变得更强',\n",
       "  'language': 'schinese',\n",
       "  'recommendationid': 22499403.0},\n",
       " {'content': '搞个屁的限免啊~一限免这游戏就感觉高手一大群',\n",
       "  'language': 'schinese',\n",
       "  'recommendationid': 22549721.0},\n",
       " {'content': '彩虹是个好游戏，育碧是个公司，一切都是这么完美，为什么要给腾讯代理？\\n明明彩虹在蒸蒸日上发展，不是很懂育碧的脑回路。只要腾讯代理，这个差评就不会消失。\\n要买的朋友注意了，彩虹被腾讯代理了，我建议不要买',\n",
       "  'language': 'schinese',\n",
       "  'recommendationid': 22603170.0},\n",
       " {'content': '别tm考试了,劳资要打彩虹,fck',\n",
       "  'language': 'schinese',\n",
       "  'recommendationid': 22753930.0},\n",
       " {'content': '育碧 你太让我失望了',\n",
       "  'language': 'schinese',\n",
       "  'recommendationid': 22949937.0},\n",
       " {'content': 'Operation Tencent',\n",
       "  'language': 'schinese',\n",
       "  'recommendationid': 22952330.0},\n",
       " {'content': '腾讯代理后  希望不要撤离国际服国内服务器',\n",
       "  'language': 'schinese',\n",
       "  'recommendationid': 23073123.0},\n",
       " {'content': '听说TX要代理R6了？特来好评祝贺。R6玩家们，珍惜现在的时光吧，毕竟玩一天少一天了。预祝TX代理红红火火恍恍惚惚。',\n",
       "  'language': 'schinese',\n",
       "  'recommendationid': 23097475.0},\n",
       " {'content': '腾讯？对不起差评',\n",
       "  'language': 'schinese',\n",
       "  'recommendationid': 23289387.0},\n",
       " {'content': 'Tencent.no.',\n",
       "  'language': 'schinese',\n",
       "  'recommendationid': 23500503.0},\n",
       " {'content': '最近涌入的萌新越来越多，而且原力大神也越来越多。\\n都是一些高素质国人，开挂还嘲讽。算我求求你们了回去玩吃鸡吧，这只是一个小众的辣鸡游戏。\\n说好了要做彼此的天使，你怎么就掏出了光剑呢？',\n",
       "  'language': 'schinese',\n",
       "  'recommendationid': 23590052.0},\n",
       " {'content': '死妈游戏 : )',\n",
       "  'language': 'schinese',\n",
       "  'recommendationid': 23610706.0},\n",
       " {'content': '其实腾讯代理也不能说完全是坏事，至少在打击外挂方面应该会不错，参考PUBG就知道了。还能分流一波小学生玩家也不错，当然这是要在你不锁区的情况下，你要是锁区了，那你就等着漫天的差评吧',\n",
       "  'language': 'schinese',\n",
       "  'recommendationid': 23891048.0},\n",
       " {'content': '我是谁？我在哪？谁打我？我怎么死了？\\n--------------------------------------------------------\\nFor Tencent',\n",
       "  'language': 'schinese',\n",
       "  'recommendationid': 24018118.0},\n",
       " {'content': '育碧腾讯狼狈为奸！\\n彩虹六号：围攻。被腾讯代理或加入Wegame那一刻起，我不会再买你育碧任何一款游戏！\\n我没想到育碧为了钱什么都干！送你一句忠告：不要忘本！',\n",
       "  'language': 'schinese',\n",
       "  'recommendationid': 24125069.0},\n",
       " {'content': '硬核版CS！', 'language': 'schinese', 'recommendationid': 24231005.0},\n",
       " {'content': '死妈海鲜TV的水军滚远点儿，别在这带节奏，挂BTV谁心里都有点数，有这时间出去找点事做，别为了点逼钱儿你亲妈在家螺旋爆炸。',\n",
       "  'language': 'schinese',\n",
       "  'recommendationid': 24459629.0},\n",
       " {'content': '彩虹六号佳，竞技性不差\\n开局玩小车，按 X 不撒手\\n先把目标发，再来扫全家\\n五十加二五，第一你稳拿\\n防守拿稳枪，楼梯脚下探\\n一枪一辆车，进攻：CNM\\n大锤审问强， E M P 投篮\\nA S H炸铁墙，热切劈木板\\n智商找儿子，闪盾正面刚\\n电车治网瘾，大盾左右晃\\n狙击不进点，FUZE救人质\\n换成防守方，玩法不一样\\n霸气机枪哥，诡雷芒踢德\\n温柔送盒饭，纯情好医生\\n德国头不大，打野抄你家\\n光头来照相，龙鳞封飞机\\n待到一年季票出，又是彩六同捆时\\n美国海豹保鲜膜，防守黑眼扫分魔\\n压好 C 8二点五，夹子倒地记得补\\n巴西烤肉串串香，大胸鬼妹摸屁股\\n火花开墙留道缝，ECHO沉迷玩老婆\\n转眼即逝第二年，香港回归波兰裂\\n健康行动很刺激，德国头部抗打击\\n豺狼 C 7枪管长，米拉黑镜偷窥狂\\n波兰小姐震动棒，香港刘醒叼牙签\\n扔闪猛冲就是萤，拐角蛊雷来三连\\n波兰一姐甩榴弹，监狱C点A E K\\n韩国妹子偶像厨，我为防守把尻打\\n防守棒子黑科技，白带异常能隐身\\n美团外卖带透视，纳米激素已注入\\n克总降san产幻觉，开局敲窗猜猜乐\\n意大利炮2.5，防弹枪塔射屁股\\n===================================\\n奇美拉赛季的爆发PVE模式非常傻逼，非常不好玩。\\n相信我，假如你连续10小时都过不去，你也会开始厌恶这个模式的（困难难度）\\n我两个开黑的队友都是一起打求生专家的，到这里面被各种精英怪的诡异血量给打成傻逼了\\n法师一个增益buff的怪竟然血能硬吃三发榴弹加一梭子机枪，能打能扛，两下就能让你倒地\\n最后面boss刷两个法师你就一点办法没有，直接等死\\n守炸弹只要三秒，怪就能把你的目标给直接摧毁，不讲面子的\\n只是单纯的消磨你的时间，除此之外并没有什么有趣的地方\\n===================================\\n弱智僵尸模式终于没有了，太开心了，把差评改成好评',\n",
       "  'language': 'schinese',\n",
       "  'recommendationid': 24607978.0},\n",
       " {'content': '个人史上第一次单排定级黄铜4？\\n\\n您觉得这样的游戏还能玩？我从S2入坑，经历过最黑暗的S3赛季，那时排位匹配过超过30分钟，\\n\\n黄金以上全是原力，=但从来没有一个时期R6S的游戏体验差劲到这个B样，玩下来10盘9盘靠我个人carry，\\n\\n对面全是白金以上，我们队全是白金甚至无段20级菜鸡，除了我勉强抗一下\\n\\n那些菜鸡开场就送，我一个黄金玩家沦落到这种地步？？？我自己都不相信， 建议新人别来了，来了就别怪我们老玩家太严格（我也好像没骂过人？反而倒是被不少\"20级大佬\"嘲讽？)\\n\\n祝愿育碧早日倒闭。Why I waste f**king three year in R6s\\n\\n至于腾讯问题，不做任何评价，个人没玩过腾讯的游戏\\n  \\n  ---来自一位Y1S2入坑的老单排黄金玩家',\n",
       "  'language': 'schinese',\n",
       "  'recommendationid': 24608300.0},\n",
       " {'content': '2015年就预购并且参加B测，一路看着这个游戏“长大”，变成我觉得最值的一款游戏。育碧牛逼',\n",
       "  'language': 'schinese',\n",
       "  'recommendationid': 24662011.0},\n",
       " {'content': '育碧你个狗东西现在是越来越不要脸了！把R6给腾讯代理，你现在越来越没有原则了么？腾讯是什么狗东西你心里没点逼数？！谁有钱谁就是你爸爸是吗？我再重申一遍：中国玩家不需要中国特供阉割版！！！你他妈只需要在国际版里他妈加上中文就行！！！中国玩家不需要代理！这种傻逼代理谁爱玩玩去！Fuck UBISOFT!!!!!!!  Fuck  Tencent!!!!!!!!! NO Tencent !    NO Tencent!    NO Tencent!我希望中国广大单机玩家能站起来，勇敢发声,一起抵制腾讯！让腾讯知道我们不会任人摆布！\\n\\n听说腾讯要和育碧合作？\\n我们不需要腾讯\\n저희가 텐센트가 필요없어요.\\nnon-essential; have no use for Tencent\\n要らないテンセント\\n نحن لا نحتاج إلى  تينسنت \\nnie musimy iść\\n저희가 텐센트가 필요없어요.\\nvi har ikke brug for tencent\\n\\n腾讯就是最垃圾的游戏公司。\\nTencent is the dirtiest gaming company.\\nテンセントは最もゴミのゲーム会社です。\\n기사는 가장 쓰레기 가 있는 게임 회사이다.\\nTencent est la société de jeux la plus pourrie.',\n",
       "  'language': 'schinese',\n",
       "  'recommendationid': 24938575.0},\n",
       " {'content': '人质别怕我来了（fuze）',\n",
       "  'language': 'schinese',\n",
       "  'recommendationid': 25048078.0},\n",
       " {'content': '跟腾讯合作就合作，出国服就出国服，但是你要是锁区逼老玩家改玩国服，不好意思拉黑育碧，鉴于阿育给的信息太少啥也没保证，先改个差评让你心里有数。要求不高，让我们pro player开开心心继续玩国际服就行，你明白的',\n",
       "  'language': 'schinese',\n",
       "  'recommendationid': 25128137.0},\n",
       " {'content': '育碧少有的耐玩性很高的作品，在一堆玩战场回复的时装fps游戏里，玩心机玩套路的硬派fps彩虹六号是一股清流。【fuze表示很赞同】。\\n已经过了这么时间还在更新新地图探员的良心游戏，育碧是真想把彩虹六号做成一个老品牌。\\n开了全特效之后，画面的全局光照看起来很舒服，下载了高清材质包之后更是完美，笔记本上稳定75帧不发热，比屁股的辣鸡优化不知道高到哪里去了。\\n枪械手感比其他的都飘，毕竟是“硬派fps”\\n剧情虽然寥寥几笔但是在剧情同质化严重的fps里，这不失为一个明智的选择。育碧果然是电影公司。\\n目前bug逐渐在变少，服务器也变得越来越好。就是匹配的时候界面太单调容易给人厌烦感。总体来说好评！\\n======================================================================\\n2018年5月21号更新，差评！没错我就是讨厌腾讯代理，总是有人喜欢扣帽子说无脑黑腾讯都是优越党，“老玩家”。\\n我不知道你们是水军还是00后，还是只玩过英雄联盟。\\n腾讯哪款代理游戏不是买了代理就锁区，然后一个封测测三年，公测就鬼了。\\n战脸有一天晚上一个区就特么几个人，来来回回就那么几个人。\\n使命召唤ol就不说了，授权作品，封测什么样后来什么样心里没点B数么。搞的国区这么多年还得跨区买，动视暴雪这孙子也是一样。\\n剑灵，猛汉王ol,火箭联盟，要我一个个数么？\\nwegame要买P社游戏，钢铁雄心4本体就下架了，就因为可能涉嫌乳化要避嫌\\n所以我说洗腾讯的你们特么是瞎子么。\\n再就是一堆精神资本家说腾讯也要赚钱，拜托你们是玩家好么，你们要是个个持股腾讯股票5%那我没话说好么。\\n还有人说出国服好啊，挂壁喷子都去国服了，孤儿的意志不是以平台的多寡而转移，他们的妈始终是死的，他们在哪都会开挂的，只要存在段位和分数设定的游戏。\\n还有人说国服出了中国可以参加ESL。倒不是喷中国电竞，中国fps这种缺乏专业团队和职业教练，战术支持的现状，很大程度上是上海龙之队是一样的命运，出去是要丢人的。而且是丢大人。再说了你一普通玩家又不参加联赛，关你屁事啊。\\n远的不说，腾讯不会像完美一样，保留steam商店页面，肯定下架，到时候想买个dlc可能要翻墙跨区高级买，麻烦不？\\n还有国服出了，商店页面没了，亚服就没新鲜血液了。说他们玩他们的，关我屁事的人到时候一局匹配十分钟憋后悔啊。\\n说了这么多，其实阿育也没办法，为了不被维旺迪强奸，被腾讯这个大财主赎身纳了小妾，以后腾讯负责国内发行工作，到时候育碧在steam下架所有游戏的时候，在wegame出和谐石油血版游戏的时候。希望那些洗地的都出来送妈。',\n",
       "  'language': 'schinese',\n",
       "  'recommendationid': 25399233.0},\n",
       " {'content': '对于前几天的TTS服的改动，我个人还是比较喜欢的，无论是平衡性，比如Ying烟雾换贴片，Lion的扫描3次变2次，不动不被扫，等等，或者UI的变化，我个人感觉还是挺喜欢的，尤其是弹道，这项改动，首先对于着弹点的修复，非常喜欢，给人的感觉就是指哪打哪，也减少了被随缘爆头的几率，开始向竞技性发展，技术才是王道，个人来说比较喜欢向竞技靠拢，但是唯一不满意的弹道就是smg系列的冲锋手枪和日本冲锋手枪b9，削弱的感觉太过了，我觉得smg-11不应该再削弱了，Smoke这个干员对枪就指望着这把“主武器”，而其他的冲锋手枪建议可以向减少子弹的方向削弱，不一定非得削后坐，反而我觉得smg-12和b9后座应该加强一些，我觉得smg-11无论后座和威力差不多是正合适的，其他冲锋手枪可以向smg-11靠拢，至于其他枪械的弹道，大致感觉还是挺满意，但是感觉还需要一些细微的改进，有些枪械稍微有些过于强势，还有菠萝peek这个改动，个人意见偏中立，修改不修改也说不好，实在不行保留菠萝peek，tts改动也实装，这个东西说到底是个习惯问题',\n",
       "  'language': 'schinese',\n",
       "  'recommendationid': 25455288.0},\n",
       " {'content': '腾讯代理真的不行',\n",
       "  'language': 'schinese',\n",
       "  'recommendationid': 25508448.0},\n",
       " {'content': '腾讯代理好啊\\n如果运营得好没挂+好服务器\\n运营的不好还能分裂国内挂B和低素质玩家\\n简直不要太棒，都不知道反对的人是不是真正的R6玩家',\n",
       "  'language': 'schinese',\n",
       "  'recommendationid': 25602932.0},\n",
       " {'content': '地图越做越烂，存粹为了绕而绕，塔楼跟墅强行加个门，加个窗户，让地图贯通',\n",
       "  'language': 'schinese',\n",
       "  'recommendationid': 25835755.0},\n",
       " {'content': '阿育，我想要全套墨冰，我想要全套冰河。我入坑的晚啊！！！',\n",
       "  'language': 'schinese',\n",
       "  'recommendationid': 26024778.0},\n",
       " {'content': '对于这次的疼讯代理，我有几句话想说一下\\n  首先，我和绝大多数玩家一样，很不开心，及其不开心，有一种自家的女儿嫁给了一坨狗屎的感觉。有很多人都说R6要成为又一款被腾讯糟蹋的游戏，对此我其实有不同的看法。\\n  首先，特别是今年一年，腾讯明显是想做中国单机游戏的老大。可是自己的名声被自己搞得实在是太臭了。那么他们应该做的是什么呢？只要腾讯高层的人脑子里没有进屎，都知道现在做的最重要的就是口碑。可能有人会说了，以前那么多代理的游戏，CODOL，MHOL，火箭联盟等等，不都一个个被搞臭了么?这里我要提醒各位注意一下时间点：腾讯是在今年，我的感觉是大概年初的时候？开始大搞特搞单机市场。这之前可能疼讯对于代理也就是想着继续走搞臭→捞钱→游戏黄掉→关服的一贯套路，很不幸，MHOL和CODOL出现在了这种时间点（真的很痛心，特别是MHOL，内测开始玩的，后来一步步看着MHOL变成一坨屎，很伤心很憋屈但是一点办法都没有），RL，可以看作是腾讯对于单机游戏继续走自己那一套恶臭套路还有没有用。结果是显而易见的，因为我们并不买账。现在，R6代理正是疼讯表现自己的机会。这游戏现在很火，他如果想踏踏实实做单机，如果高层脑子里真的没有屎，想像steam一样靠卖COPY赚钱，就不能像对待MHOL,CODOL,RL一样继续坑害玩家，那样做无疑是自掘坟墓。\\n  综上所述，虽然我从本能上对于腾讯代理国服这件事很排斥，但并不是很绝望。也希望大家放平心态，理性乐观的看待这件事\\n[spoiler]  可能有人会认为我是疼讯的水军，我想说的是，我真的很爱这款游戏，看我的购买时间和游戏时间你就会明白。所以以上评测是我在综合目前情况，合理分析，然后努力尽自己最大能力拼命强迫自虐性质的让自己往好处想后得出的结论。\\n  还是那句话，我爱这款游戏。而且代理后会不会凉其实对于我们来说没什么关系的啊，锁区已经是肯定得了，以后买dlc都要各凭本事了，国内？你想在国内那种玩家动不动就骂娘的大环境下玩么?所以，这次的代理，我们从一开始就输了（不过一开服去炸鱼应该挺爽的）[/spoiler]',\n",
       "  'language': 'schinese',\n",
       "  'recommendationid': 26353407.0},\n",
       " {'content': '新干员有点太强了\\n\\n萌新大概2种\\n1从来不玩小车，莽上天\\n\\n2各种玩小车，肥宅的一批，开局2分钟，人物没动过\\n\\n[spoiler] 真心希望这个游戏火把，腾讯代理是好事。还真有优越党…锁区什么的科学上网就好肥宅何苦为难肥宅[/spoiler]',\n",
       "  'language': 'schinese',\n",
       "  'recommendationid': 26549743.0},\n",
       " {'content': '[strike]这游戏成功的解掉屁股的毒，csgo 又成功的解掉了这游戏的毒。\\n总之对新手极度不友好，各种各样的死\\n我在哪？\\n我在打谁？\\n谁在打我？\\n不说多了我要铃铛smoke rush B了。\\n————————————————————分界线——————————————————————\\n然后你就发现csgo 什么垃圾游戏还是我大彩虹好玩\\n不说多我要新进 m870 rush人质房了[/strike]\\n————————————————————分界线——————————————————————\\n打排位卡666 喵喵喵？ 打脖子肩膀算爆头 打头居然一点事没有\\n育碧你tm逗我玩？？？\\n最气的就是今天晚上2017/5/14 开个排位2：0 第3把进去卡66666？？？？？？？\\n其他什么干员不平衡 什么恶性bug都不说\\n你能用我也能用对不赢只能说明技不如人 \\n但是这个服务器机制就有大问题\\n游戏体验贼差\\n接下来一整个赛季都是你的了就看育碧你怎么修吧\\n根据下个赛季的情况更改评测\\n————————————————————分界线——————————————————————\\n2017.6.8 23:06 嗯健康行动第一次更新匹配的时候终于可以切出去了\\n但是这匹配系统改的是个jb 大晚上连着匹4个卡666的房？？？？\\n1/10 1分是我匹配的时候可以切出去买皮肤看挑战了\\n所以我算是看出来了健康行动就是tm眼子\\n跟员工放了3个月假就修了火花哑弹bug还tm整出来一裤衩bug可以可以\\n我会原谅你的育碧\\n————————————————————分界线——————————————————————\\n电脑炸了等年底换电脑在买笔记本我是小狗\\n这游戏真好玩！\\n————————————————————分界线——————————————————————\\n好玩个屁 \\n这游戏走远了\\n一个竞技游戏有这么多bug就不说\\n老玩家的肝不是肝？！\\n你tm改个渲染以后我这渣渣笔记本玩不来了\\n我tm还买了你第三年季票\\n难受！\\n————————————————————分界线——————————————————————\\n电脑姬换掉了\\n这游戏真jb好玩\\n夫人说要相信啊育\\n所以也请大家相信夫人相信啊育',\n",
       "  'language': 'schinese',\n",
       "  'recommendationid': 26562137.0},\n",
       " {'content': '腾讯比维旺迪还可怕,望育碧你三思!',\n",
       "  'language': 'schinese',\n",
       "  'recommendationid': 26563956.0},\n",
       " {'content': '那些说游戏服务器不好的，我就纳闷了，我玩了100小时了，掉线不超过三次，从来没有过连不上的情况，那些说服务器差的，不要因为自己网络不好误导别人.\\n--------------------------------------------------------------------------\\n育碧你是不是眼睛瞎了，知道火箭联盟么？你交给腾讯的下场就是游戏都出不了。腾讯就是屎。',\n",
       "  'language': 'schinese',\n",
       "  'recommendationid': 26581150.0},\n",
       " {'content': '未来更多的育碧游戏将由腾讯进行本土化引进。\\n阿育啊，你是觉得自己的uplay做的不够好吗？给谁不好给ip毁灭者',\n",
       "  'language': 'schinese',\n",
       "  'recommendationid': 26599342.0},\n",
       " {'content': '新赛季，真香', 'language': 'schinese', 'recommendationid': 26600988.0},\n",
       " {'content': '觉着没必要说什么，这个差评不是给游戏的，而是给育碧你的，至于为什么你懂得！\\n如果以后育碧的游戏锁区，只有企鹅版本的话，我就再也不会玩育碧的游戏了',\n",
       "  'language': 'schinese',\n",
       "  'recommendationid': 26602230.0},\n",
       " {'content': '不说什么废话，这游戏简直好玩的一笔！\\n彩虹六号玩了一年了，还认识了很多新盆友，学了很多英语，可见这是个多么好的游戏啊。\\n还请大佬中佬小佬，对友好但是技术还有待提升的队友宽容。队友没有伤害我，我要做的就是引导和鼓励。只是个游戏，交朋友才是最重要的。',\n",
       "  'language': 'schinese',\n",
       "  'recommendationid': 26611534.0},\n",
       " {'content': '这游戏可以说是非常到位了',\n",
       "  'language': 'schinese',\n",
       "  'recommendationid': 26627112.0},\n",
       " {'content': '腾讯在中国游戏产业的毒瘤毋容置疑，几乎垄断整个行业并且把代理的游戏改变的如此丑陋，几乎从来不把玩家当做玩家\\n即便顶着错误118，我们这些真正热爱这款游戏的玩家不希望R6被腾讯给毁了',\n",
       "  'language': 'schinese',\n",
       "  'recommendationid': 26686657.0},\n",
       " {'content': '这游戏有点意思',\n",
       "  'language': 'schinese',\n",
       "  'recommendationid': 26718617.0},\n",
       " {'content': '5.18 TX代理：无数前车之鉴告诉我们，接下来会发生什么\\n弹道风波：已改好评，b数自在人心',\n",
       "  'language': 'schinese',\n",
       "  'recommendationid': 26740906.0},\n",
       " {'content': '我就算连不上uplay，排名战掉线，也不用腾讯服务器一字节带宽！\\n\\n低延迟真好玩',\n",
       "  'language': 'schinese',\n",
       "  'recommendationid': 26745826.0},\n",
       " {'content': '我就是死 死外面 从这里跳下去 也绝对不会看彩虹六号这个辣鸡游戏一眼 这辈子都不会看的  \\n  彩虹六号更新了！真香！',\n",
       "  'language': 'schinese',\n",
       "  'recommendationid': 26937595.0},\n",
       " {'content': '拒绝企鹅，抵制企鹅',\n",
       "  'language': 'schinese',\n",
       "  'recommendationid': 26964440.0},\n",
       " {'content': '阿育家的精品,你,值得拥有',\n",
       "  'language': 'schinese',\n",
       "  'recommendationid': 27020480.0},\n",
       " {'content': '看到消息后本来想着跟着差评，但是我以后要是忘了改回来怎么办，毕竟我已经不玩了，所以索性就不差评了，但是真的不希望腾讯代理，使命ol就是前车之鉴。至于那些说让国内玩家可以多接触到优秀的游戏等各种好处而赞同的。我想说：腾讯出的花里胡哨乱改的枪和页游的差不多，都是有需求才有供给，很难说清楚是谁造就了谁。而且我也不觉得腾讯想要打造中国的steam，我所知的游戏平台：steam，uplay，战网，烂橘子，gog，他们都有一个共同的特点。我倒是希望腾讯能出一款真正的得到玩家认可的开山之作，不是那种东拼西凑然后加以特色化的东西，可能受限于国内政策，作品创作内容受限，但真的是无路可走么？即使扑街，赔本赚吆喝，也能让人看到洗白的诚意，到时候腾讯代理谁我没意见，因为它不再只想着赚钱了，其实这就是个信任的问题，我更相信它代理后会变坏而不是变好。游戏平台最好的推广方式其实是游戏本身。当然，要是能做到把以上平台的招牌游戏全部代理，而且都登陆自家平台，就当我没说。有句老话说的：吃人嘴软，拿人手短，阿育你明白了么',\n",
       "  'language': 'schinese',\n",
       "  'recommendationid': 27041354.0},\n",
       " {'content': '让腾讯发行？\\n你哪根筋搭错了？',\n",
       "  'language': 'schinese',\n",
       "  'recommendationid': 27062767.0},\n",
       " {'content': 'F****U*****C******K  Tencent',\n",
       "  'language': 'schinese',\n",
       "  'recommendationid': 27084137.0},\n",
       " {'content': '在这个游戏中，你可以玩手机，打电话，跳舞，拆房子，装修房子，玩无人机，玩心跳，跑酷，玩烫手的山芋，打棒球，玩投篮，[spoiler]看性感IQ在线丢雷[/spoiler]而且只要168，何乐而不为呢？',\n",
       "  'language': 'schinese',\n",
       "  'recommendationid': 27086064.0},\n",
       " {'content': 'NO  f**king Tencent, NO!',\n",
       "  'language': 'schinese',\n",
       "  'recommendationid': 27151035.0},\n",
       " {'content': '今早一看到R6被腾讯垃圾代理的消息，很失落，腾讯就是中国游戏界的毒瘤，育碧你既然选择腾讯 那我只好放弃！确认上线的那一天，就是我卸载Uplay的那天! 以后不会再买育碧的任何一款游戏！垃圾腾讯 ！ 脑残育碧！ 滚！！！',\n",
       "  'language': 'schinese',\n",
       "  'recommendationid': 27184466.0},\n",
       " {'content': '游戏是个好游戏，但是现在恶意TK的死妈玩意越来越多了，因为贴吧不能单独开贴屠狗,\\n所以以后本评测专门用来曝光恶意TK的傻狗王八龟儿重度脑瘫智力残障废物的UplayID。\\n并将持续更新。\\n-----------------2017.6.15-----------TW_BlackJoker（八成是弯弯）\\n大学图，修闲，第一回合这边一个人头都没有(新匹配的问题对面等级太高这边全是菜逼)，第二回合开局一分钟不到这边全给对面窗户偷死了就剩这个屌毛挂窗挂半天，对面等的不耐烦了就出来送，电机和黑镜，从二楼奖品室里面跳出来同时打结果电机给队友打趟了。这个屌毛就正好把那黑镜和倒地电机给收掉了，接着在换弹的时候给一楼女鬼扒窗后两发手枪带走。然后就开始自我膨胀开始嘲讽加鄙视队友了，还他妈装个老逼打个英文useless，你野爹老子use完你站街崩妈肉便器没给钱还是啥地?第三回合一开始就把剩下的另外两个队友（我和另外一个）给恶意TK了。我说你他妈你收的人头是你枪法很好收掉的吗？膨胀废物，杀的两个一个倒地另一个显示红边了都你他妈花了大半个弹匣才搞定还他妈在挂墙的时候换弹给人家扒完窗的再拿手枪再带走。自己不嫌丢人还他妈有逼脸鄙视队友这种脑瘫低能儿老子还能说你婊子变异鸡妈什么好?\\n视频证据: http://v.youku.com/v_show/id_XMjgzMTQ3MzgyOA==.html?spm=a2h3j.8428770.3416059.1\\n--------------------------------2018.5.9----------------------Costaes\\n边境图休闲，开局打完摄像头后莫名其妙TK,智障死妈龟儿子,滋瓷一见此傻狗ID到就立马TK。TK完剩下几个死妈孤儿投票踢人，4个都投了,孤儿ID:H9N,need_potato,Mr_seasoning.',\n",
       "  'language': 'schinese',\n",
       "  'recommendationid': 27377312.0},\n",
       " {'content': '新手的噩梦，但是上手以后确实中毒极深。这是我玩过的最好的FPS，没有之一。\\nNewbees\\' nightmare. But when you get into it, you never wanna get out. This is the best game I have ever played.\\n\\n____________________________________________________________________________\\n\\nIf you work with Tencent, you are fxcked. That\\'s how Tencent works. They fxcked and are fxcking and will forever fxck every game corporations they work with and every games connected with them.Tencent is the worst game company but makes the best money in the world. There is only money in their eyes. I do believe Ubi was a game company with pure love to every games you made. But now, time has changed. \\nI do understand which way Ubi would choose after the finicial crysis. In real world, if there is something that can protect a corporation from threat, it would be only money. But do you still remember the slogan \"BUY EVERYTHING AND FXCK VIVID\" during the crysis?\\n和腾讯合作，你就完了。这就是腾讯的工作机制。他们一直以来致力于搞烂各种与他们合作的游戏公司和任何一款与他们相关的游戏。腾讯是全世界最差劲的游戏公司却挣了最多的钱。在他们眼中只有金钱。我确信育碧曾是个纯爱着自己制作的所有游戏的公司。但是现在，时代变了。\\n我十分理解在财政危机后育碧会选择的道路。在现实世界，如果有什么能使公司免受威胁，那只会是钱。可是你们还能记得起那个危机时的口号“干他妈的维旺迪老子买爆”么？',\n",
       "  'language': 'schinese',\n",
       "  'recommendationid': 27379246.0},\n",
       " {'content': 'I love Ubisoft because Rinbow Six is my favorite game.  \\nAnd I hate Ubisoft as well because you let Tencent be the agent of Rinbow Six in China.',\n",
       "  'language': 'schinese',\n",
       "  'recommendationid': 27495774.0},\n",
       " {'content': '玩了这么多游戏感觉还是R6耐玩',\n",
       "  'language': 'schinese',\n",
       "  'recommendationid': 27563998.0},\n",
       " {'content': '啊育你的良心不会痛吗，竟然把代理给腾讯',\n",
       "  'language': 'schinese',\n",
       "  'recommendationid': 27675894.0},\n",
       " {'content': '垂死病中惊坐起，听闻腾讯要代理',\n",
       "  'language': 'schinese',\n",
       "  'recommendationid': 27810817.0},\n",
       " {'content': '我很喜欢这款游戏但是\\nFK Tencent',\n",
       "  'language': 'schinese',\n",
       "  'recommendationid': 27812623.0},\n",
       " {'content': '刷差评的蒸斯林才是真傻逼。',\n",
       "  'language': 'schinese',\n",
       "  'recommendationid': 27854847.0},\n",
       " {'content': '哈哈哈哈，，，，好游戏，，，，，推荐\\n\\n\\n\\n\\n\\n\\n\\n我tm买爆',\n",
       "  'language': 'schinese',\n",
       "  'recommendationid': 27912983.0},\n",
       " {'content': '绝对刺激，适合开黑，很少有扫射的爽快，是个谨慎和讲究的游戏，游戏CG相当亮眼，打累了经常挨个观看，帅气逼人，另外这是个让你谦虚起来的游戏，carry过再多的局，也总会碰到让你重新做人的大佬，不管打出过多骚的操作，也要一直提醒自己：不能飘，大佬多的是\\n\\n--------------------------------------------------------------------------------------------------\\n健康行动更新后，发现匹配机制真的太不合理，几乎粉转黑，本人虽说并非大神，但也玩了这么久，匹配的时候对面一帮百级大神，遇到萌新一阵狂揍，遇到大神一阵被虐，队伍的输赢全靠各自那一两个大神carry，像我这种中不溜的，只能寄希望于己方大神，同时无奈地鄙视己方萌新，，希望匹配机制能改成所有人等级相似，而不是每个队都同时存在大神和萌新!不改匹配，不改差评！\\n\\n------------------------------------------------------------------------------------------------\\n匹配改进了很久，忘记改评价了。。。\\n\\n现在的R6，堪称完美！！！！\\n\\n--------------------------------------------------------------------------------------------------\\n        再次差评，游戏素质满分，但育碧的态度让人寒心，这款优秀而且独具匠心的游戏，从发布之初就被育碧冷落，曾经的弃子在真爱粉和工作室的坚定支持下，在中国渐渐火起来了，受到市场的重视与青睐了，育碧就眼前一亮，前倨后恭，摩拳擦掌地想着如何大赚一笔，先是升级售价，后来听取了玩家的意见改回原价，但还不甘心，这次直接全面调高R6点数的售价，我以为优秀的游戏公司应该是重视创意重视技术重视玩家，而不是把自己的各个游戏当作股票来投机倒把、增持抛售，好游戏当然理应多赚钱，但前提是尊重核心粉丝，一旦失去了核心玩家的心，边缘那些跟风尝鲜的玩家能给你多少利润呢，真正愿意把省下来的钱花在游戏上的，都是被你难看的吃相伤害最深的真爱粉啊，别忘了我们玩家最喜欢为情怀充值啊喂！\\n\\n----------------------------------------------------------------------------------------------------------------------------------------------------------------------------------------\\n育碧和腾讯都是想赚钱的，但不同的是，育碧懂游戏，腾讯对游戏的理解只是追热度和投资，腾讯的急功近利和不择手段毁了很多本来可以通过用心经营而口碑收入双丰收的游戏，但是腾讯看不到好游戏的闪光点，它只能看到一款游戏的短期效益，他以为投玩家所好就可以正大光明的氪金赚钱，但是他甚至不知道游戏为什么会吸引人，游戏的美妙之处在哪里，他只知道：市场是什么口味，我就做什么，所以他追赶热度、所以他买买买，所以他毁了无数优秀的作品优秀的创意，只因为这些杰作没有给腾讯带来短期的效益\\n\\n你以为腾讯和维旺迪的区别在哪里？维旺迪会在一款游戏风头正盛的时候疯狂圈钱、快速榨干游戏价值，而腾讯会在你渐渐黯淡的时候落井下石，让你一旦开始走下坡路的时候，就不得翻身 。\\n\\n只需想一个问题，如果R6S当初在腾讯手里发售，面对不佳的销量，腾讯还会珍惜创意、坚持理念、用心经营吗？看看wegame里面死气沉沉的游戏，育碧你就大概知道了——腾讯懂的是市场热度，而不是游戏艺术',\n",
       "  'language': 'schinese',\n",
       "  'recommendationid': 27935611.0},\n",
       " {'content': '这个游戏帮我戒了守望先锋的毒，不知不觉也玩了800小时了，也从一开始的小菜鸡成长到了现在能偶尔和钻石大佬对对枪。\\n玩了这么久，我也不敢说我已经完全掌握了这个游戏的套路。\\n彩虹六号真的很好玩，如果有人问我什么射击游戏好玩，我会毫不犹豫地推荐彩虹六号。\\n也不为什么，就因为我爱这个游戏。\\n\\n欢迎各位加我的Uplay和我一起玩。\\n账号1：The.SamSara\\n账号2：The.Chevalier',\n",
       "  'language': 'schinese',\n",
       "  'recommendationid': 28110492.0},\n",
       " {'content': '一直很喜欢汤姆克兰西系列，育婊的经典招牌。围攻应该算是近期育碧最良心的作品了，完美融合了真实战术配合和射击手感，最良心的是一直在更新探员，让人对这个系列保持则着热情。如果是刚入坑，切记这不是款无脑突突突的游戏，步步危机，左右探视，进门先扔无人机。反正利用手上的一切资源，掌握屋子里5个智障的位置，才是反恐突袭的精髓~\\n\\n\\n听说你给腾讯代理了，那我也给个差评吧。我的钱包永远为育碧的优秀游戏准备，但是腾讯？抱歉！NO FCUKING TENCENT!',\n",
       "  'language': 'schinese',\n",
       "  'recommendationid': 28120636.0},\n",
       " {'content': 'You guys will regret for choosing Tencent.',\n",
       "  'language': 'schinese',\n",
       "  'recommendationid': 28132449.0},\n",
       " {'content': '腾讯代理了啊 锁完区 游戏没出先内测个一年 疯狂山寨 移植 最后一句 本土化 符合我国国情 就完事了',\n",
       "  'language': 'schinese',\n",
       "  'recommendationid': 28152706.0},\n",
       " {'content': '请不要为了一时的利益和TX这种公司合作，只会给中国玩家带来更多的痛苦。不是今后买不买育碧游戏的问题，而是自己口碑的问题，参考CODOL。R6是一款优良的游戏，但请原谅我的差评！\\nNo Tencent ！！！\\nNo Tencent ！！！\\nNo Tencent ！！！',\n",
       "  'language': 'schinese',\n",
       "  'recommendationid': 28159208.0},\n",
       " {'content': '彩虹六号拆迁的格局，是和别处不同的：都是全球的顶级精英，有着专属的技能，可以随时谈判。谈判的专家，凭着一万两千五百点声望，买一位基础干员；倘肯多花一倍，便可以买DLC干员。这样的专家，被称作肝帝，为众人耻笑。而但凡是理智的专家，都愿出百元以获得全部的基础干员。而只有买了完整版的专家，才能在全部的干员里，要攻要守，慢慢地挑选。\\n        我从去年起，便在种着土豆的网吧里当网管，老板说，我样子太傻，怕侍候不了专家们，就在吧台做点事罢。来往的普通专家，虽然有了基础干员，但自己的声望依旧少的可怜。他们往往要亲眼看着战斗结束时的声望结算，看看是否有队友奖励，再将ALPHA包的概率记在心中，然后放心：在这严格监督下，土豆漏掉也很不容易。所以过了几天，老板又说我没出过BUG，干不了这事。幸亏G胖的情面大，已经干了两个小时，辞退不得。\\n       我从此便整天的坐在吧台里，专管我的职务。虽然没有什么失职，但总觉得有些单调，有些无聊。老板是一副土豆脸孔，专家也都是GAY里GAY气，教人活泼不得；只有肝帝Z君到店，才可以笑几声，所以至今还记得。\\nZ君是芝加哥豪宅的顶尖专家。他就算是孤狼作战，也可以一分钟搞定拟真猎恐；可笑的是，他的干员没有皮肤，干员的枪上没有涂装；他谈判的时长已经600小时了，护肝片瓶子见了底，而干员仍是没全。他对人说话，总是一天可肝5W。因为他每每开始谈判，总要吃一粒护肝片，众人便替他取下一个绰号，叫作肝帝。\\n       肝帝一到店，所有谈判的人便都看着他笑，有的叫道，“肝帝，今天又出了新同捆！”\\n       他不回答，对吧台里说，“开一台，要一瓶强化物，1天就好”。\\n       他们又故意的高声嚷道，“你一定又要开始肝了！”\\n       肝帝睁大眼睛说，“你怎么这样凭空污人清白……”\\n      “什么清白？我前天亲眼见你点开育碧下个赛季的干员短片，循环播放。”\\n       肝帝脸色变得煞白，一只手捂着肝，争辩道，“入门版不能算肝……猎恐！……入门版的事，能算肝么？”接连便是难懂的话，什么“入门体验”，什么“豪宅”之类，引得众人都哄笑起来，店内外充满了快活的空气。\\n       听人家背地里谈论，肝帝原来愿望单里的是标准版，但终于没有买，始终不能谈判。幸而交得一好友，便替人家跑跑腿，如此换得一份【Rainbow Six Siege - Starter Edition】。可惜他买不起同捆，肝帝没有法，便免不了豪宅猎恐。\\n       肝帝开了强化物，惨白的脸色渐渐有了血色，其他专家便又问道，“肝帝，你当真玩了600多小时么？”肝帝看着问他的人，显出不屑置辩的神气。他们便接着说道，“你怎的连第二年干员都没齐呢？”肝帝立刻显出颓唐不安模样，脸上笼上了一层灰色，嘴里说些话；这回可是全是车库卧室餐厅之类，一些不懂了。在这时候，众人也都哄笑起来：店内外充满了快活的空气。\\n       在这些时候，我可以附和着笑，老板是决不责备的。而且老板见了肝帝，也每每这样问他，引人发笑。肝帝自己知道不能和他们谈天，便只好向我说话。有一回对我说道，“你拆迁过吗？”我略略点一点头。他说，“拆迁过，……我便考你一考。芝加哥豪宅的人质点，有几种？”我想，要吃护肝片的人，也配考我么？便回过脸去，不再理会。\\n        肝帝等了许久，很恳切的说道，“不知道罢？……我教给你，记着！这些点应该记着。将来谈判的时候，偷人质要用。”我暗想这里的专家人质局都是FUZE，从来不会谈判的；又好笑，又不耐烦，懒懒的答他道，“谁要你教，不就是地下室，一楼和二楼吗？”肝帝显出极高兴的样子，将彩六打开，点头说，“大体上是这样……但是具体点位有五个，你知道么？”我愈不耐烦了，努着嘴走远。肝帝刚开了孤狼，想在地图里演示，见我毫不热心，便又叹一口气，显出极惋惜的样子。\\n        “多乎哉?不多也。”\\n        有一天，大约是腾讯代理前的两三天，老板正在慢慢的结账，敲敲键盘，忽然说，“肝帝长久没有来了。还欠180R点呢！”我才也觉得他的确长久没有来了。\\n         一个专家说道，“他怎么会来？……他被BAN了。”老板说，“哦！”“他仍然在肝。这一回，是自己发昏，为了新出的干员，竟开了脚本挂机。BE的监管，挂得了吗？”\\n       “后来怎么样？”“怎么样？发了邮件，就没了。”“后来呢？”“谁知道呢。也许在免费周里还会来吧。”老板也不再问，仍然慢慢的算他的账。\\n        腾讯代理后，环境是一天差比一天，看着遍地神仙；昔日的专家走了大半。一天的下半天，没有一个专家，我正合了眼坐着。忽然间听得一个声音，“1天强化物。”这声音虽然极低，却很耳熟。看时又全没有人。站起来一看，那肝帝便在吧台下前倚着。他脸上毫无血色，已经不成样子；用手护着腰；见了我，又说道，“1天强化物。”老板也伸出头去，一面说，“肝帝么？你还欠这1天的呢！”\\n肝帝很颓唐的仰面答道，“这……下回还清罢。这一回是现钱，要立即到账。”老板仍然同平常一样，笑着对他说，“肝帝，你又开始肝了！”但他这回却不十分分辩，单说了一句“不要取笑！”“取笑？要是不肝，怎么会买强化物？”肝帝低声说道，“腾..腾讯国服免费了……”他的眼色，很像恳求老板，不要再提。此时网吧里已经聚集了几位专家，便和老板都笑了。我充好后，他便坐到角落里，开始猎恐。不一会，国服维护，便又在旁人的说笑声中，依旧是手扶着腰走了出去。\\n       自此以后，又长久没有看见肝帝。到了月底，老板说，“肝帝还欠180R点呢！”到下一次的免费周，又说“肝帝还欠着R点呢！” \\n       我到现在终于没有见——大约肝帝的确肝不动了。\\n\\n贴吧看到的，转过来了',\n",
       "  'language': 'schinese',\n",
       "  'recommendationid': 28162662.0},\n",
       " {'content': '不想再成为下一个CODOL了',\n",
       "  'language': 'schinese',\n",
       "  'recommendationid': 28176245.0},\n",
       " {'content': '不要相信任何人，包括队友',\n",
       "  'language': 'schinese',\n",
       "  'recommendationid': 28180218.0},\n",
       " {'content': '游戏真的是好游戏，但是育碧这土豆服务器实在是蛋疼，挂vpn都不管用。我可以非常负责任的说，显示的22小时游戏时间，起码有一半时间是在连接服务器和重新连接服务器。。。。一场比赛打一半掉线那更是家常便饭，这直接导致我到现在还是个10级的超级萌新，每一场匹配都是在坑队友和坑自己。说实话，在换掉我家的垃圾河北广电宽带前，我是真的不敢再买育碧的联网游戏了。\\n新更新：Pengu  MJ被误封两个小时就解封了，为什么中国玩家（还是星玩家）被误封三天了还没有解决问题？中国玩家就低人一等吗？请重视中国玩家。',\n",
       "  'language': 'schinese',\n",
       "  'recommendationid': 28205657.0},\n",
       " {'content': '别问我为什么改差评\\nTX代理了',\n",
       "  'language': 'schinese',\n",
       "  'recommendationid': 28228307.0},\n",
       " {'content': '新人（Lv0-10）：无 说难听点这个阶段的新人玩啥都菜，如果能用猎恐度过这段时期是最好\\n进阶（Lv20-40）：进攻：切墙开墙辅助 防守：少选胖子蹲家，选陷阱系的干员在点附近协防\\n中阶（Lv40-60）：了解地图，清楚定位。 进攻：了解进攻方向，了解针对性的打法，懂得垂直进攻 防守：到处学习脏套路偷人（不推荐学习开局偷人）\\n高阶（Lv60-100）：这对枪游戏该怎么玩你们都懂，没什么特别好讲的了\\n车队：有稳定的车队就应该好好准备特定地图的特定战术，其他情况下把这游戏当对枪游戏打就行了\\n\\n顺手列一下强力武器吧(DPS由高到低）\\n进攻：F2, AK12, C7E, R4C, TYPE-89\\n防守：416-C CARBINE, SCORPION EVO 3A1, MP7, T5 SMG, K1A\\n以及副武器的SMG-11, BEARING 9, SMG12, C75 AUTO\\n\\n总之，R6是目前世界上最好的室内CQB游戏了\\n反正隔壁某游来的睿智也坚持不下这类高级游戏的，R6相对来说 受众的素质普遍算高了。\\n\\n\\n10/10\\n我们育碧精神股东就是可以为所欲为（笑）',\n",
       "  'language': 'schinese',\n",
       "  'recommendationid': 28335978.0},\n",
       " {'content': '听说腾讯要和育碧合作？\\n我们不需要腾讯\\n저희가 텐센트가 필요없어요.\\nnon-essential; have no use for Tencent\\n要らないテンセント\\n نحن لا نحتاج إلى  تينسنت \\nnie musimy iść\\n저희가 텐센트가 필요없어요.\\nvi har ikke brug for tencent\\nFUCK OFF TENCENT.GO TO HELL',\n",
       "  'language': 'schinese',\n",
       "  'recommendationid': 28481714.0},\n",
       " {'content': 'Tencent=HIV',\n",
       "  'language': 'schinese',\n",
       "  'recommendationid': 28559631.0},\n",
       " {'content': '给差评是我唯一的武器了，NO Tencent!!!!!!!!!!!!!!!!!!!!!!!!!!!!!!!!!!!!!!!!!!!',\n",
       "  'language': 'schinese',\n",
       "  'recommendationid': 28575892.0},\n",
       " {'content': '不要腾讯代理 垃圾腾讯',\n",
       "  'language': 'schinese',\n",
       "  'recommendationid': 28617494.0},\n",
       " {'content': '当初真是瞎了眼，匹配全是老司机就算了，还老断开连接！',\n",
       "  'language': 'schinese',\n",
       "  'recommendationid': 28717299.0},\n",
       " {'content': '很好玩，至少能有十个小时熟悉游戏，纯娱乐+坑队友，80多大洋到这个程度差不多也就值了，再继续下去还好不好玩我就不管了233',\n",
       "  'language': 'schinese',\n",
       "  'recommendationid': 28720357.0},\n",
       " {'content': '遇到挂了，未来发展状况堪忧',\n",
       "  'language': 'schinese',\n",
       "  'recommendationid': 28791578.0},\n",
       " {'content': '丢人玩意滚回去吃鸡，没事刷个鸡儿差评，听见没，cnm海鲜tv，cnm，听见没，还tm歧视，自己几斤几两掂量不出来么nice ban，and\\nfvc。，k u douyu185360，run away to play the fvc。，king pubg。',\n",
       "  'language': 'schinese',\n",
       "  'recommendationid': 28819790.0},\n",
       " {'content': '腾讯就是最垃圾的游戏公司。\\nTencent is the dirtiest gaming company.\\nテンセントは最もゴミのゲーム会社です。\\n기사는 가장 쓰레기 가 있는 게임 회사이다.\\nTencent est la société de jeux la plus pourrie.\\nAnd\\nNO TENCENT',\n",
       "  'language': 'schinese',\n",
       "  'recommendationid': 28822994.0},\n",
       " {'content': '希望腾讯赶紧代理锁国区 让孤儿外挂自己去玩',\n",
       "  'language': 'schinese',\n",
       "  'recommendationid': 28899217.0},\n",
       " {'content': '建议新手不要着急去多人，先三颗星星完成除第五条款之外的所有情景训练，能够能够学习游戏机制入门玩法，完全可以提升你的游戏体验。\\n\\n\\n\\n这游戏正如古人云：天时地利人和\\n天时：各种玄学爆头没得解[spoiler]这都是命[/spoiler]\\n人和：一场战斗的形势很大一部分看所有人的走位比如防守让出一个包围圈把进攻包饺子，进攻一波rush然后击破防守薄弱的位置都会影响战局\\n以上两点很难适应，唯一不变的是地图！进攻路线的选择，角落里停个小车能不能被发现，阴暗角落摆个夹子，哪些衣柜书架等高位置小车能不能跳上去（防守方一般会注意地上有没有小车，很少想象小车在高处，不信你试试？），甚至可以做到咚人质房炸不死人质的操作w\\n\\n【所以来背地图吧w】↓\\n自己开一局自定义 模式选择人质\\n进攻选择IQ带爆破炸药 既能够记下摄像头位置 又能够记住哪些墙壁地板可以破坏 时间到了抱着人质还能继续跑图熟悉\\n防守选择三速的任意角色就好 带个霰弹枪也能破坏墙壁 同时可以亲身跑到摄像头的范围内 以及了解好外面的某个窗户会通向哪个房间以便以后选择进攻路线用\\n这样把所有的地图都背熟了攻能规划进攻路线防能蹲好点出其不备 \\n【以上为开自定义背地图的建议 】\\n\\nPS 炸弹局AB炸弹是隔壁的话尽量不要封死AB中间那面墙 当然视情况而为有的点可以封也有的点守着一个点另外一个点对着放黑镜之类的战术。\\n\\n\\n\\n\\n关于这款游戏的评价：在下从沙县入的坑，然后骷髅雨开始摸索技术，差不多也是到去年健康行动才开始敢去打排位的千小时咸鱼干儿。这一年多下来没遇到八百血盾牌的BB，没蹭到2.5ACOG的SMG11，当然德国双雄那俩武器还是有玩啦。服务器体验现在是比刚开始玩那会好了很多，最早的匹配机制是凑齐十个人才进地图，也就是各种九等一等不急就退啥的情况家常便饭，现在的匹配机制是先凑齐五个人然后等另外的一队五个人，不会出现九等一的情况。服务器也好了很多，早期的时候经常各种掉线，加速器真的是必备，现在确实纵享丝滑了很多w',\n",
       "  'language': 'schinese',\n",
       "  'recommendationid': 28926914.0}]"
      ]
     },
     "execution_count": 8,
     "metadata": {},
     "output_type": "execute_result"
    }
   ],
   "source": [
    "test"
   ]
  },
  {
   "cell_type": "code",
   "execution_count": 9,
   "metadata": {},
   "outputs": [],
   "source": [
    "from predict_review_weight import PRW"
   ]
  },
  {
   "cell_type": "code",
   "execution_count": 10,
   "metadata": {},
   "outputs": [
    {
     "name": "stderr",
     "output_type": "stream",
     "text": [
      "Building prefix dict from the default dictionary ...\n",
      "Loading model from cache /var/folders/2j/q6n9vnx11qv60bxj0jn9m0xw0000gn/T/jieba.cache\n"
     ]
    },
    {
     "name": "stdout",
     "output_type": "stream",
     "text": [
      "tokenizing input data...\n"
     ]
    },
    {
     "name": "stderr",
     "output_type": "stream",
     "text": [
      "Loading model cost 0.765 seconds.\n",
      "Prefix dict has been built succesfully.\n"
     ]
    },
    {
     "name": "stdout",
     "output_type": "stream",
     "text": [
      "dictionary size:  2884\n"
     ]
    }
   ],
   "source": [
    "test_result = PRW(test)"
   ]
  },
  {
   "cell_type": "code",
   "execution_count": 13,
   "metadata": {},
   "outputs": [
    {
     "name": "stdout",
     "output_type": "stream",
     "text": [
      "tokenizing input data...\n",
      "dictionary size:  20416\n",
      "pre-processing train data...\n",
      "tokenizing input data...\n",
      "dictionary size:  11629\n"
     ]
    }
   ],
   "source": [
    "chinese_results = PRW(reviews[\"schinese\"])\n",
    "english_results = PRW(reviews[\"english\"])"
   ]
  },
  {
   "cell_type": "code",
   "execution_count": 14,
   "metadata": {},
   "outputs": [
    {
     "name": "stdout",
     "output_type": "stream",
     "text": [
      "dictionary size:  1330\n",
      "dictionary size:  2470\n"
     ]
    }
   ],
   "source": [
    "japanese_results = PRW(reviews[\"japanese\"])\n",
    "french_results = PRW(reviews[\"french\"])"
   ]
  },
  {
   "cell_type": "code",
   "execution_count": 15,
   "metadata": {},
   "outputs": [
    {
     "data": {
      "text/plain": [
       "array([[0.51343906],\n",
       "       [0.51343906],\n",
       "       [0.51343906],\n",
       "       [0.51343906],\n",
       "       [0.51343906],\n",
       "       [0.51343906],\n",
       "       [0.51343906],\n",
       "       [0.51343906],\n",
       "       [0.51343906],\n",
       "       [0.51343906]], dtype=float32)"
      ]
     },
     "execution_count": 15,
     "metadata": {},
     "output_type": "execute_result"
    }
   ],
   "source": [
    "chinese_results.weights[0:10\n",
    "                ]"
   ]
  },
  {
   "cell_type": "code",
   "execution_count": 25,
   "metadata": {},
   "outputs": [],
   "source": [
    "chinese_review_ids = [x[\"recommendationid\"] for x in reviews[\"schinese\"]]\n",
    "chinese_review_pairs = list(zip(chinese_review_ids, chinese_results.weights))\n",
    "english_review_ids = [x[\"recommendationid\"] for x in reviews[\"english\"]]\n",
    "english_review_pairs = list(zip(english_review_ids, english_results.weights))\n",
    "japanese_review_ids = [x[\"recommendationid\"] for x in reviews[\"japanese\"]]\n",
    "japanese_review_pairs = list(zip(japanese_review_ids, japanese_results.weights))\n",
    "french_review_ids = [x[\"recommendationid\"] for x in reviews[\"french\"]]\n",
    "french_review_pairs = list(zip(french_review_ids, french_results.weights))"
   ]
  },
  {
   "cell_type": "code",
   "execution_count": 26,
   "metadata": {},
   "outputs": [],
   "source": [
    "review_pairs = list()\n",
    "review_pairs.extend(chinese_review_pairs)\n",
    "review_pairs.extend(english_review_pairs)\n",
    "review_pairs.extend(japanese_review_pairs)\n",
    "review_pairs.extend(french_review_pairs)"
   ]
  },
  {
   "cell_type": "code",
   "execution_count": 28,
   "metadata": {},
   "outputs": [
    {
     "data": {
      "text/plain": [
       "8877"
      ]
     },
     "execution_count": 28,
     "metadata": {},
     "output_type": "execute_result"
    }
   ],
   "source": [
    "len(review_pairs)"
   ]
  },
  {
   "cell_type": "code",
   "execution_count": 47,
   "metadata": {},
   "outputs": [],
   "source": [
    "review_weights = {int(x[0]): float(x[1][0]) for x in review_pairs}\n",
    "import json\n",
    "file = open(\"review_weights\", \"w\")\n",
    "json_str = json.dumps(review_weights)\n",
    "file.write(json_str)\n",
    "file.close()"
   ]
  },
  {
   "cell_type": "code",
   "execution_count": 42,
   "metadata": {},
   "outputs": [
    {
     "ename": "TypeError",
     "evalue": "array([0.51343906], dtype=float32) is not JSON serializable",
     "traceback": [
      "\u001b[0;31m---------------------------------------------------------------------------\u001b[0m",
      "\u001b[0;31mTypeError\u001b[0m                                 Traceback (most recent call last)",
      "\u001b[0;32m<ipython-input-42-84a5fce08dcf>\u001b[0m in \u001b[0;36m<module>\u001b[0;34m()\u001b[0m\n\u001b[1;32m      1\u001b[0m \u001b[0;32mimport\u001b[0m \u001b[0mjson\u001b[0m\u001b[0;34m\u001b[0m\u001b[0m\n\u001b[1;32m      2\u001b[0m \u001b[0mfile\u001b[0m \u001b[0;34m=\u001b[0m \u001b[0mopen\u001b[0m\u001b[0;34m(\u001b[0m\u001b[0;34m\"review_weights\"\u001b[0m\u001b[0;34m,\u001b[0m \u001b[0;34m\"w\"\u001b[0m\u001b[0;34m)\u001b[0m\u001b[0;34m\u001b[0m\u001b[0m\n\u001b[0;32m----> 3\u001b[0;31m \u001b[0mjson_str\u001b[0m \u001b[0;34m=\u001b[0m \u001b[0mjson\u001b[0m\u001b[0;34m.\u001b[0m\u001b[0mdumps\u001b[0m\u001b[0;34m(\u001b[0m\u001b[0mreview_pairs\u001b[0m\u001b[0;34m)\u001b[0m\u001b[0;34m\u001b[0m\u001b[0m\n\u001b[0m\u001b[1;32m      4\u001b[0m \u001b[0mfile\u001b[0m\u001b[0;34m.\u001b[0m\u001b[0mwrite\u001b[0m\u001b[0;34m(\u001b[0m\u001b[0mjson_str\u001b[0m\u001b[0;34m)\u001b[0m\u001b[0;34m\u001b[0m\u001b[0m\n\u001b[1;32m      5\u001b[0m \u001b[0mfile\u001b[0m\u001b[0;34m.\u001b[0m\u001b[0mclose\u001b[0m\u001b[0;34m(\u001b[0m\u001b[0;34m)\u001b[0m\u001b[0;34m\u001b[0m\u001b[0m\n",
      "\u001b[0;32m~/anaconda3/envs/tensorflow/lib/python3.5/json/__init__.py\u001b[0m in \u001b[0;36mdumps\u001b[0;34m(obj, skipkeys, ensure_ascii, check_circular, allow_nan, cls, indent, separators, default, sort_keys, **kw)\u001b[0m\n\u001b[1;32m    228\u001b[0m         \u001b[0mcls\u001b[0m \u001b[0;32mis\u001b[0m \u001b[0;32mNone\u001b[0m \u001b[0;32mand\u001b[0m \u001b[0mindent\u001b[0m \u001b[0;32mis\u001b[0m \u001b[0;32mNone\u001b[0m \u001b[0;32mand\u001b[0m \u001b[0mseparators\u001b[0m \u001b[0;32mis\u001b[0m \u001b[0;32mNone\u001b[0m \u001b[0;32mand\u001b[0m\u001b[0;34m\u001b[0m\u001b[0m\n\u001b[1;32m    229\u001b[0m         default is None and not sort_keys and not kw):\n\u001b[0;32m--> 230\u001b[0;31m         \u001b[0;32mreturn\u001b[0m \u001b[0m_default_encoder\u001b[0m\u001b[0;34m.\u001b[0m\u001b[0mencode\u001b[0m\u001b[0;34m(\u001b[0m\u001b[0mobj\u001b[0m\u001b[0;34m)\u001b[0m\u001b[0;34m\u001b[0m\u001b[0m\n\u001b[0m\u001b[1;32m    231\u001b[0m     \u001b[0;32mif\u001b[0m \u001b[0mcls\u001b[0m \u001b[0;32mis\u001b[0m \u001b[0;32mNone\u001b[0m\u001b[0;34m:\u001b[0m\u001b[0;34m\u001b[0m\u001b[0m\n\u001b[1;32m    232\u001b[0m         \u001b[0mcls\u001b[0m \u001b[0;34m=\u001b[0m \u001b[0mJSONEncoder\u001b[0m\u001b[0;34m\u001b[0m\u001b[0m\n",
      "\u001b[0;32m~/anaconda3/envs/tensorflow/lib/python3.5/json/encoder.py\u001b[0m in \u001b[0;36mencode\u001b[0;34m(self, o)\u001b[0m\n\u001b[1;32m    196\u001b[0m         \u001b[0;31m# exceptions aren't as detailed.  The list call should be roughly\u001b[0m\u001b[0;34m\u001b[0m\u001b[0;34m\u001b[0m\u001b[0m\n\u001b[1;32m    197\u001b[0m         \u001b[0;31m# equivalent to the PySequence_Fast that ''.join() would do.\u001b[0m\u001b[0;34m\u001b[0m\u001b[0;34m\u001b[0m\u001b[0m\n\u001b[0;32m--> 198\u001b[0;31m         \u001b[0mchunks\u001b[0m \u001b[0;34m=\u001b[0m \u001b[0mself\u001b[0m\u001b[0;34m.\u001b[0m\u001b[0miterencode\u001b[0m\u001b[0;34m(\u001b[0m\u001b[0mo\u001b[0m\u001b[0;34m,\u001b[0m \u001b[0m_one_shot\u001b[0m\u001b[0;34m=\u001b[0m\u001b[0;32mTrue\u001b[0m\u001b[0;34m)\u001b[0m\u001b[0;34m\u001b[0m\u001b[0m\n\u001b[0m\u001b[1;32m    199\u001b[0m         \u001b[0;32mif\u001b[0m \u001b[0;32mnot\u001b[0m \u001b[0misinstance\u001b[0m\u001b[0;34m(\u001b[0m\u001b[0mchunks\u001b[0m\u001b[0;34m,\u001b[0m \u001b[0;34m(\u001b[0m\u001b[0mlist\u001b[0m\u001b[0;34m,\u001b[0m \u001b[0mtuple\u001b[0m\u001b[0;34m)\u001b[0m\u001b[0;34m)\u001b[0m\u001b[0;34m:\u001b[0m\u001b[0;34m\u001b[0m\u001b[0m\n\u001b[1;32m    200\u001b[0m             \u001b[0mchunks\u001b[0m \u001b[0;34m=\u001b[0m \u001b[0mlist\u001b[0m\u001b[0;34m(\u001b[0m\u001b[0mchunks\u001b[0m\u001b[0;34m)\u001b[0m\u001b[0;34m\u001b[0m\u001b[0m\n",
      "\u001b[0;32m~/anaconda3/envs/tensorflow/lib/python3.5/json/encoder.py\u001b[0m in \u001b[0;36miterencode\u001b[0;34m(self, o, _one_shot)\u001b[0m\n\u001b[1;32m    254\u001b[0m                 \u001b[0mself\u001b[0m\u001b[0;34m.\u001b[0m\u001b[0mkey_separator\u001b[0m\u001b[0;34m,\u001b[0m \u001b[0mself\u001b[0m\u001b[0;34m.\u001b[0m\u001b[0mitem_separator\u001b[0m\u001b[0;34m,\u001b[0m \u001b[0mself\u001b[0m\u001b[0;34m.\u001b[0m\u001b[0msort_keys\u001b[0m\u001b[0;34m,\u001b[0m\u001b[0;34m\u001b[0m\u001b[0m\n\u001b[1;32m    255\u001b[0m                 self.skipkeys, _one_shot)\n\u001b[0;32m--> 256\u001b[0;31m         \u001b[0;32mreturn\u001b[0m \u001b[0m_iterencode\u001b[0m\u001b[0;34m(\u001b[0m\u001b[0mo\u001b[0m\u001b[0;34m,\u001b[0m \u001b[0;36m0\u001b[0m\u001b[0;34m)\u001b[0m\u001b[0;34m\u001b[0m\u001b[0m\n\u001b[0m\u001b[1;32m    257\u001b[0m \u001b[0;34m\u001b[0m\u001b[0m\n\u001b[1;32m    258\u001b[0m def _make_iterencode(markers, _default, _encoder, _indent, _floatstr,\n",
      "\u001b[0;32m~/anaconda3/envs/tensorflow/lib/python3.5/json/encoder.py\u001b[0m in \u001b[0;36mdefault\u001b[0;34m(self, o)\u001b[0m\n\u001b[1;32m    177\u001b[0m \u001b[0;34m\u001b[0m\u001b[0m\n\u001b[1;32m    178\u001b[0m         \"\"\"\n\u001b[0;32m--> 179\u001b[0;31m         \u001b[0;32mraise\u001b[0m \u001b[0mTypeError\u001b[0m\u001b[0;34m(\u001b[0m\u001b[0mrepr\u001b[0m\u001b[0;34m(\u001b[0m\u001b[0mo\u001b[0m\u001b[0;34m)\u001b[0m \u001b[0;34m+\u001b[0m \u001b[0;34m\" is not JSON serializable\"\u001b[0m\u001b[0;34m)\u001b[0m\u001b[0;34m\u001b[0m\u001b[0m\n\u001b[0m\u001b[1;32m    180\u001b[0m \u001b[0;34m\u001b[0m\u001b[0m\n\u001b[1;32m    181\u001b[0m     \u001b[0;32mdef\u001b[0m \u001b[0mencode\u001b[0m\u001b[0;34m(\u001b[0m\u001b[0mself\u001b[0m\u001b[0;34m,\u001b[0m \u001b[0mo\u001b[0m\u001b[0;34m)\u001b[0m\u001b[0;34m:\u001b[0m\u001b[0;34m\u001b[0m\u001b[0m\n",
      "\u001b[0;31mTypeError\u001b[0m: array([0.51343906], dtype=float32) is not JSON serializable"
     ],
     "output_type": "error"
    }
   ],
   "source": []
  },
  {
   "cell_type": "code",
   "execution_count": null,
   "metadata": {},
   "outputs": [],
   "source": []
  }
 ],
 "metadata": {
  "kernelspec": {
   "display_name": "Python 3",
   "language": "python",
   "name": "python3"
  },
  "language_info": {
   "codemirror_mode": {
    "name": "ipython",
    "version": 3
   },
   "file_extension": ".py",
   "mimetype": "text/x-python",
   "name": "python",
   "nbconvert_exporter": "python",
   "pygments_lexer": "ipython3",
   "version": "3.5.4"
  }
 },
 "nbformat": 4,
 "nbformat_minor": 2
}
